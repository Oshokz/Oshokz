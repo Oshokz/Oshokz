{
 "cells": [
  {
   "cell_type": "markdown",
   "id": "8f4cca2f",
   "metadata": {},
   "source": [
    "## Input Statement"
   ]
  },
  {
   "cell_type": "code",
   "execution_count": 12,
   "id": "eecfd35b",
   "metadata": {},
   "outputs": [
    {
     "name": "stdout",
     "output_type": "stream",
     "text": [
      "how old are you1\n",
      "how old are you again1\n",
      "kindly leave\n"
     ]
    }
   ],
   "source": [
    "Li = [15, 17 ,18, 20, 19]\n",
    "\n",
    "age = int(input(\"how old are you\"))\n",
    "\"\"\" input alwways returns a str, hence we convert to int\n",
    "since age is an int\"\"\"\n",
    "if age in Li:\n",
    "    print(\"you are qualified\")\n",
    "\n",
    "if age not in Li: #giving the person another chance\n",
    "    age= int(input(\"how old are you again\"))\n",
    "    if age in Li:\n",
    "        print(\"you are actually qualified\")\n",
    "    else:\n",
    "        print(\"kindly leave\")\n",
    "else:\n",
    "    print(\"not qualified\")"
   ]
  },
  {
   "cell_type": "markdown",
   "id": "c63df55b",
   "metadata": {},
   "source": [
    "Grading\n",
    "A = 4.5\n",
    "B = 3 TO 3.5\n",
    "C = 2.5 - 3\n",
    "D = BELOW 2.5"
   ]
  },
  {
   "cell_type": "code",
   "execution_count": 17,
   "id": "0ec1d383",
   "metadata": {},
   "outputs": [
    {
     "name": "stdout",
     "output_type": "stream",
     "text": [
      "what is your score5\n",
      "Your Grade is A\n",
      "score not correct: rewrite your exam\n"
     ]
    }
   ],
   "source": [
    "score = float(input(\"what is your score\"))\n",
    "# using float because we are expecting decimals\n",
    "if score >= 4.5:\n",
    "    print(\"Your Grade is A\")\n",
    "    \n",
    "if score >= 3 and score <=3.5:\n",
    "    print(\"Your Grade is B\")\n",
    "    \n",
    "if score >= 2.5 and score <=3:\n",
    "    print(\"Your Grade is C\")\n",
    "    \n",
    "if score <= 2.5:\n",
    "    print(\"Your Grade is D\")\n",
    "    \n",
    "else:\n",
    "    print(\"score not correct: rewrite your exam\")"
   ]
  },
  {
   "cell_type": "code",
   "execution_count": 18,
   "id": "bc878b92",
   "metadata": {},
   "outputs": [],
   "source": [
    "#Tuple: immutable; to change it,\n",
    "#convert to list first\n",
    "\n",
    "age = (4, 6, 7, 3 ,6, 'Kola')\n",
    "A  = list(age)"
   ]
  },
  {
   "cell_type": "code",
   "execution_count": 19,
   "id": "60ac7bcc",
   "metadata": {},
   "outputs": [
    {
     "name": "stdout",
     "output_type": "stream",
     "text": [
      "[4, 6, 7, 3, 6, 30]\n"
     ]
    }
   ],
   "source": [
    "#let's change Kola to Kola's age\n",
    "A[-1] = 30\n",
    "print(A)"
   ]
  },
  {
   "cell_type": "code",
   "execution_count": 24,
   "id": "0a539ed6",
   "metadata": {},
   "outputs": [
    {
     "data": {
      "text/plain": [
       "'Kunle'"
      ]
     },
     "execution_count": 24,
     "metadata": {},
     "output_type": "execute_result"
    }
   ],
   "source": [
    "#INDEXING\n",
    "attendance = [\"Yemi\", \"Kola\" , \"Kunle\"]\n",
    "attendance[2]"
   ]
  },
  {
   "cell_type": "code",
   "execution_count": 25,
   "id": "90a2e54a",
   "metadata": {},
   "outputs": [
    {
     "data": {
      "text/plain": [
       "1"
      ]
     },
     "execution_count": 25,
     "metadata": {},
     "output_type": "execute_result"
    }
   ],
   "source": [
    "# In case we dont know the index of Kola\n",
    "ind_kola = attendance.index(\"Kola\")\n",
    "ind_kola"
   ]
  },
  {
   "cell_type": "code",
   "execution_count": 26,
   "id": "573fd56e",
   "metadata": {},
   "outputs": [
    {
     "name": "stdout",
     "output_type": "stream",
     "text": [
      "['Yemi', 'Osokoya', 'Kunle']\n"
     ]
    }
   ],
   "source": [
    "#let us change Kola to his surname\n",
    "attendance[ind_kola] = \"Osokoya\"\n",
    "print(attendance)"
   ]
  },
  {
   "cell_type": "code",
   "execution_count": 27,
   "id": "a9b79f2d",
   "metadata": {},
   "outputs": [
    {
     "data": {
      "text/plain": [
       "185"
      ]
     },
     "execution_count": 27,
     "metadata": {},
     "output_type": "execute_result"
    }
   ],
   "source": [
    "#List functions\n",
    "scor = [ 4,6, 12,64, 62,34, 3]\n",
    "sum(scor) #to check the sum:you can also min, max"
   ]
  },
  {
   "cell_type": "code",
   "execution_count": 28,
   "id": "3edca1fb",
   "metadata": {},
   "outputs": [
    {
     "data": {
      "text/plain": [
       "[3, 4, 6, 12, 34, 62, 64]"
      ]
     },
     "execution_count": 28,
     "metadata": {},
     "output_type": "execute_result"
    }
   ],
   "source": [
    "sorted(scor) #ascending by default"
   ]
  },
  {
   "cell_type": "code",
   "execution_count": 34,
   "id": "7e431e00",
   "metadata": {},
   "outputs": [
    {
     "data": {
      "text/plain": [
       "[64, 62, 34, 12, 6, 4, 3]"
      ]
     },
     "execution_count": 34,
     "metadata": {},
     "output_type": "execute_result"
    }
   ],
   "source": [
    "sorted(scor, reverse = True) \n",
    "#for descending"
   ]
  },
  {
   "cell_type": "code",
   "execution_count": 31,
   "id": "6a76ae39",
   "metadata": {},
   "outputs": [
    {
     "data": {
      "text/plain": [
       "[4, 6, 12, 64, 62, 34, 3]"
      ]
     },
     "execution_count": 31,
     "metadata": {},
     "output_type": "execute_result"
    }
   ],
   "source": [
    "scor"
   ]
  },
  {
   "cell_type": "code",
   "execution_count": 14,
   "id": "79fdb4d1",
   "metadata": {},
   "outputs": [
    {
     "data": {
      "text/plain": [
       "['ade', 'yemi', 'bolu', ['ye', 'ken']]"
      ]
     },
     "execution_count": 14,
     "metadata": {},
     "output_type": "execute_result"
    }
   ],
   "source": [
    "#Append and Extend methods\n",
    "#methods take the in place results internally/ automatically\n",
    "# and without having to assign another variable\n",
    "a = [\"ade\", \"yemi\", \"bolu\"]\n",
    "b = [\"ye\", \"ken\"]\n",
    "a.append(b)\n",
    "a\n",
    "\n",
    "#append method will add another list inside a list"
   ]
  },
  {
   "cell_type": "code",
   "execution_count": 2,
   "id": "696cca47",
   "metadata": {},
   "outputs": [
    {
     "data": {
      "text/plain": [
       "['sade', 'yemii', 'olu', 'yeni', 'kemi']"
      ]
     },
     "execution_count": 2,
     "metadata": {},
     "output_type": "execute_result"
    }
   ],
   "source": [
    "c = [\"sade\", \"yemii\", \"olu\"]\n",
    "d = [\"yeni\", \"kemi\"]\n",
    "c.extend(d)\n",
    "c"
   ]
  },
  {
   "cell_type": "code",
   "execution_count": 18,
   "id": "1c823d47",
   "metadata": {},
   "outputs": [],
   "source": [
    "#extend method will extend in same list"
   ]
  },
  {
   "cell_type": "code",
   "execution_count": 20,
   "id": "a603bfab",
   "metadata": {},
   "outputs": [
    {
     "data": {
      "text/plain": [
       "[3, 4, 7, 8, 9, 54]"
      ]
     },
     "execution_count": 20,
     "metadata": {},
     "output_type": "execute_result"
    }
   ],
   "source": [
    "q = [4,7,3 ,8, 9,54]\n",
    "sorted(q)"
   ]
  },
  {
   "cell_type": "code",
   "execution_count": 25,
   "id": "603b6ce3",
   "metadata": {},
   "outputs": [
    {
     "data": {
      "text/plain": [
       "[3, 7, 8, 9, 14, 54]"
      ]
     },
     "execution_count": 25,
     "metadata": {},
     "output_type": "execute_result"
    }
   ],
   "source": [
    "s = [14,7,3 ,8, 9,54]\n",
    "s.sort()\n",
    "s"
   ]
  },
  {
   "cell_type": "code",
   "execution_count": 9,
   "id": "294b99bb",
   "metadata": {},
   "outputs": [
    {
     "data": {
      "text/plain": [
       "['kay', 'yeni', 'may', 'jay']"
      ]
     },
     "execution_count": 9,
     "metadata": {},
     "output_type": "execute_result"
    }
   ],
   "source": [
    "# Insert: to positon the element \n",
    "names = [\"kay\", \"may\",\"jay\"]\n",
    "names.insert(1, \"yeni\") \n",
    "#insert yeni to index 1\n",
    "names"
   ]
  },
  {
   "cell_type": "code",
   "execution_count": 12,
   "id": "92a9f1b0",
   "metadata": {},
   "outputs": [
    {
     "data": {
      "text/plain": [
       "[4, 65, 34, 34, 32]"
      ]
     },
     "execution_count": 12,
     "metadata": {},
     "output_type": "execute_result"
    }
   ],
   "source": [
    "# pop and remove\n",
    "# pop removes the last item as def or the indexed\n",
    "# remove doesn't use index; you have to sate the value\n",
    "\n",
    "am = [4,65,34,34,32,14]\n",
    "am.pop()\n",
    "am"
   ]
  },
  {
   "cell_type": "code",
   "execution_count": 13,
   "id": "adf07d51",
   "metadata": {},
   "outputs": [
    {
     "data": {
      "text/plain": [
       "[4, 34, 34, 32]"
      ]
     },
     "execution_count": 13,
     "metadata": {},
     "output_type": "execute_result"
    }
   ],
   "source": [
    "am.pop(1)\n",
    "am"
   ]
  },
  {
   "cell_type": "code",
   "execution_count": 19,
   "id": "30c7f87b",
   "metadata": {},
   "outputs": [
    {
     "data": {
      "text/plain": [
       "[14, 65, 134, 134]"
      ]
     },
     "execution_count": 19,
     "metadata": {},
     "output_type": "execute_result"
    }
   ],
   "source": [
    "aa = [14,65,134,342,134]\n",
    "aa.remove(342)\n",
    "aa"
   ]
  },
  {
   "cell_type": "markdown",
   "id": "0dfceb3a",
   "metadata": {},
   "source": [
    "## LOOP:"
   ]
  },
  {
   "cell_type": "code",
   "execution_count": 25,
   "id": "388fbb59",
   "metadata": {},
   "outputs": [
    {
     "name": "stdout",
     "output_type": "stream",
     "text": [
      "enter your score\n",
      "enter your score\n",
      "enter your score\n"
     ]
    }
   ],
   "source": [
    "# you use loop anytime you know you will \n",
    "#repeat same thing multiple times\n",
    "\n",
    "# e.g. when you want to collect the score of 5 students\n",
    "# e.g. what is your score\n",
    "score = input(\"enter your score\")\n",
    "score = input(\"enter your score\")\n",
    "score = input(\"enter your score\")"
   ]
  },
  {
   "cell_type": "code",
   "execution_count": 26,
   "id": "04794378",
   "metadata": {},
   "outputs": [
    {
     "name": "stdout",
     "output_type": "stream",
     "text": [
      "enter your score\n",
      "enter your score\n",
      "enter your score\n",
      "enter your score\n",
      "enter your score\n"
     ]
    }
   ],
   "source": [
    "for i in range(5):\n",
    "    score = input(\"enter your score\")"
   ]
  },
  {
   "cell_type": "code",
   "execution_count": 29,
   "id": "a7820c79",
   "metadata": {},
   "outputs": [
    {
     "data": {
      "text/plain": [
       "16"
      ]
     },
     "execution_count": 29,
     "metadata": {},
     "output_type": "execute_result"
    }
   ],
   "source": [
    "#calculate the square\n",
    "a = [4, 6, 8, 9 , -1]\n",
    "#without loop\n",
    "4 ** 2"
   ]
  },
  {
   "cell_type": "code",
   "execution_count": 30,
   "id": "228fb513",
   "metadata": {},
   "outputs": [
    {
     "data": {
      "text/plain": [
       "36"
      ]
     },
     "execution_count": 30,
     "metadata": {},
     "output_type": "execute_result"
    }
   ],
   "source": [
    "6 ** 2\n",
    "# we are repeating the instruction multiple time"
   ]
  },
  {
   "cell_type": "code",
   "execution_count": 34,
   "id": "8b26656f",
   "metadata": {},
   "outputs": [
    {
     "name": "stdout",
     "output_type": "stream",
     "text": [
      "16\n",
      "36\n",
      "64\n",
      "81\n",
      "1\n"
     ]
    }
   ],
   "source": [
    "# using loop\n",
    "for i in a:\n",
    "    print(i**2)"
   ]
  },
  {
   "cell_type": "code",
   "execution_count": 42,
   "id": "216646a4",
   "metadata": {},
   "outputs": [
    {
     "data": {
      "text/plain": [
       "[0, 1, 2, 3, 4, 5, 6, 7, 8, 9]"
      ]
     },
     "execution_count": 42,
     "metadata": {},
     "output_type": "execute_result"
    }
   ],
   "source": [
    "# range\n",
    "list(range(10))"
   ]
  },
  {
   "cell_type": "code",
   "execution_count": 40,
   "id": "8209e83f",
   "metadata": {},
   "outputs": [
    {
     "data": {
      "text/plain": [
       "[2, 3, 4, 5, 6, 7, 8, 9]"
      ]
     },
     "execution_count": 40,
     "metadata": {},
     "output_type": "execute_result"
    }
   ],
   "source": [
    "list(range(2, 10))\n",
    "#specify the starting point"
   ]
  },
  {
   "cell_type": "code",
   "execution_count": 39,
   "id": "bc30badd",
   "metadata": {},
   "outputs": [
    {
     "data": {
      "text/plain": [
       "[2, 5, 8, 11, 14, 17]"
      ]
     },
     "execution_count": 39,
     "metadata": {},
     "output_type": "execute_result"
    }
   ],
   "source": [
    "list(range(2, 20, 3))\n",
    "#specify the step"
   ]
  },
  {
   "cell_type": "code",
   "execution_count": 1,
   "id": "8febf4b7",
   "metadata": {},
   "outputs": [
    {
     "name": "stdout",
     "output_type": "stream",
     "text": [
      "enter your score: 22\n",
      "enter your score: 77\n",
      "enter your score: 44\n",
      "enter your score: 775\n",
      "enter your score: 55\n",
      "973.0\n"
     ]
    }
   ],
   "source": [
    "# write a program to collect 5 scores/ numbers\n",
    "# from users and sum them together\n",
    "result = 0 # anything added to 0 is that thing\n",
    "# if we are multiplying, we will use 1\n",
    "for i in range(5):\n",
    "    score = float(input(\"enter your score: \"))\n",
    "    result = result + score\n",
    "#float takes precedent over interger\n",
    "#float can work with bont int and float\n",
    "# while int will give error i one input is a float\n",
    "print(result)"
   ]
  },
  {
   "cell_type": "code",
   "execution_count": 14,
   "id": "03c879ac",
   "metadata": {},
   "outputs": [
    {
     "name": "stdout",
     "output_type": "stream",
     "text": [
      "34\n"
     ]
    },
    {
     "data": {
      "text/plain": [
       "5.666666666666667"
      ]
     },
     "execution_count": 14,
     "metadata": {},
     "output_type": "execute_result"
    }
   ],
   "source": [
    "# sum the following\n",
    "m = [3, 2, 6, 6 ,9,8]\n",
    "\n",
    "output = 0\n",
    "for i in m:\n",
    "    output += i\n",
    "    \n",
    "print(output)\n",
    "output/ len(m)\n"
   ]
  },
  {
   "cell_type": "code",
   "execution_count": 15,
   "id": "341c86c3",
   "metadata": {},
   "outputs": [
    {
     "data": {
      "text/plain": [
       "-6"
      ]
     },
     "execution_count": 15,
     "metadata": {},
     "output_type": "execute_result"
    }
   ],
   "source": [
    "# write a programme to find the smallest number\n",
    "li = [4, 6, 7 ,-4,-6, 2, 98, 76, 54]\n",
    "\n",
    "#declare an arbitrary number (AN)\n",
    "# go through each numbers in the list and compare with the AN\n",
    "# if the number is less than the AN, declare it as the smallest\n",
    "smallest = None\n",
    "# we cant use 0 because the number might be less than 0\n",
    "# and 0 might be in the list\n",
    "for num in li:\n",
    "    if smallest is None or smallest > num:\n",
    "        smallest = num\n",
    "        \n",
    "smallest"
   ]
  },
  {
   "cell_type": "code",
   "execution_count": 16,
   "id": "853c4d39",
   "metadata": {},
   "outputs": [
    {
     "data": {
      "text/plain": [
       "-6"
      ]
     },
     "execution_count": 16,
     "metadata": {},
     "output_type": "execute_result"
    }
   ],
   "source": [
    "min(li)"
   ]
  },
  {
   "cell_type": "code",
   "execution_count": 17,
   "id": "bb7b142f",
   "metadata": {},
   "outputs": [
    {
     "data": {
      "text/plain": [
       "98"
      ]
     },
     "execution_count": 17,
     "metadata": {},
     "output_type": "execute_result"
    }
   ],
   "source": [
    "# write a programme to find the maximum number\n",
    "li = [4, 6, 7 ,-4,-6, 2, 98, 76, 54]\n",
    "\n",
    "#declare an arbitrary number (AN)\n",
    "# go through each numbers in the list and compare with the AN\n",
    "# if the number is less than the AN, declare it as the smallest\n",
    "highest = None\n",
    "\n",
    "for num in li:\n",
    "    if highest is None or highest < num:\n",
    "        highest = num\n",
    "        \n",
    "highest"
   ]
  },
  {
   "cell_type": "markdown",
   "id": "974f8ef6",
   "metadata": {},
   "source": [
    "### zip function"
   ]
  },
  {
   "cell_type": "code",
   "execution_count": 31,
   "id": "de54865d",
   "metadata": {},
   "outputs": [
    {
     "name": "stdout",
     "output_type": "stream",
     "text": [
      "21\n",
      "10\n",
      "13\n"
     ]
    }
   ],
   "source": [
    "#find the profit\n",
    "cost = [ 35, 65, 98]\n",
    "price = [56,75, 111]\n",
    "result = []\n",
    "for cp, pr in zip(cost, price):\n",
    "    profit= pr - cp\n",
    "    result.append(profit)\n",
    "    print(profit)"
   ]
  },
  {
   "cell_type": "code",
   "execution_count": 32,
   "id": "1d12768a",
   "metadata": {},
   "outputs": [
    {
     "name": "stdout",
     "output_type": "stream",
     "text": [
      "[21, 10, 13]\n"
     ]
    }
   ],
   "source": [
    "print(result)"
   ]
  },
  {
   "cell_type": "markdown",
   "id": "0e5fc056",
   "metadata": {},
   "source": [
    "### Dictionary"
   ]
  },
  {
   "cell_type": "code",
   "execution_count": 49,
   "id": "79a90a21",
   "metadata": {},
   "outputs": [
    {
     "name": "stdout",
     "output_type": "stream",
     "text": [
      "Pls Enter your name:kolly\n",
      "Pls enter your age9\n",
      "{'Yemi': 45, 'Kenny': 60, 'Kola': 30, 'kolly': 9}\n"
     ]
    }
   ],
   "source": [
    "# collect 3 new records\n",
    "rec = {\"Yemi\": 45, \"Kenny\":60, \"Kola\": 30}\n",
    "name= input(\"Pls Enter your name:\")\n",
    "age= int(input(\"Pls enter your age\"))\n",
    "\n",
    "if name in rec:\n",
    "    print('name already exists')\n",
    "else:\n",
    "    rec[name]= age\n",
    "\n",
    "print(rec)"
   ]
  },
  {
   "cell_type": "code",
   "execution_count": 4,
   "id": "b27b870c",
   "metadata": {},
   "outputs": [
    {
     "data": {
      "text/plain": [
       "{'tayo': 34, 'Mo': 45, 'Ayo': 65, 'Tade': 45, 'Ko': 76}"
      ]
     },
     "execution_count": 4,
     "metadata": {},
     "output_type": "execute_result"
    }
   ],
   "source": [
    "#add the new name and new grade to the student records\n",
    "student_records= {\"tayo\": 34, \"Mo\": 45, \"Ayo\":65}\n",
    "new_name = [\"Tade\", \"Ko\"]\n",
    "new_grade = [45,76]\n",
    "for k,v in zip(new_name, new_grade):\n",
    "    student_records[k] = v\n",
    "    \n",
    "student_records"
   ]
  },
  {
   "cell_type": "markdown",
   "id": "f8a00aff",
   "metadata": {},
   "source": [
    "### List Comprehension"
   ]
  },
  {
   "cell_type": "code",
   "execution_count": 11,
   "id": "a4706e83",
   "metadata": {},
   "outputs": [
    {
     "name": "stdout",
     "output_type": "stream",
     "text": [
      "1\n",
      "4\n",
      "9\n",
      "16\n",
      "25\n"
     ]
    }
   ],
   "source": [
    "# calculate the square from 1- 5\n",
    "for num in range(1,6):\n",
    "    print(num**2)"
   ]
  },
  {
   "cell_type": "code",
   "execution_count": 16,
   "id": "84dfa2fa",
   "metadata": {},
   "outputs": [
    {
     "name": "stdout",
     "output_type": "stream",
     "text": [
      "[1, 4, 9, 16, 25]\n"
     ]
    }
   ],
   "source": [
    "# list comprehension goes this way\n",
    "# it includes\n",
    "#a. the reult of what we are printing\n",
    "#b.the for loop without the colon\n",
    "result = [num**2 for num in range(1,6)]\n",
    "print(result)"
   ]
  },
  {
   "cell_type": "code",
   "execution_count": 34,
   "id": "0751bccf",
   "metadata": {},
   "outputs": [
    {
     "name": "stdout",
     "output_type": "stream",
     "text": [
      "4\n",
      "16\n"
     ]
    }
   ],
   "source": [
    "# let's square on the even numbers in 1-5\n",
    "for i in range(1, 6):\n",
    "    if i % 2 ==0:\n",
    "        print(i**2)"
   ]
  },
  {
   "cell_type": "code",
   "execution_count": 40,
   "id": "0d18f8a4",
   "metadata": {},
   "outputs": [
    {
     "data": {
      "text/plain": [
       "[4, 16, 36, 64]"
      ]
     },
     "execution_count": 40,
     "metadata": {},
     "output_type": "execute_result"
    }
   ],
   "source": [
    "result = [i**2 for i in range(1, 10) if i % 2 ==0]\n",
    "result"
   ]
  },
  {
   "cell_type": "markdown",
   "id": "da0c23ae",
   "metadata": {},
   "source": [
    "### Functions"
   ]
  },
  {
   "cell_type": "code",
   "execution_count": 54,
   "id": "67a3daa5",
   "metadata": {},
   "outputs": [
    {
     "name": "stdout",
     "output_type": "stream",
     "text": [
      "9\n"
     ]
    }
   ],
   "source": [
    "# define add function\n",
    "def add():\n",
    "    result = 4+ 5\n",
    "    print(result)\n",
    "add()"
   ]
  },
  {
   "cell_type": "code",
   "execution_count": 55,
   "id": "fc28af36",
   "metadata": {},
   "outputs": [
    {
     "data": {
      "text/plain": [
       "17"
      ]
     },
     "execution_count": 55,
     "metadata": {},
     "output_type": "execute_result"
    }
   ],
   "source": [
    "# the above function can only work with 4 and 5\n",
    "#in cases where we will be changing, we should\n",
    "# define an argument\n",
    "def addi(x ,y):\n",
    "    result = x + y\n",
    "    return result\n",
    "addi(8, 9)"
   ]
  },
  {
   "cell_type": "code",
   "execution_count": 56,
   "id": "ed87097f",
   "metadata": {},
   "outputs": [
    {
     "data": {
      "text/plain": [
       "34"
      ]
     },
     "execution_count": 56,
     "metadata": {},
     "output_type": "execute_result"
    }
   ],
   "source": [
    "addi(15 , 19)"
   ]
  },
  {
   "cell_type": "code",
   "execution_count": 57,
   "id": "2083c7aa",
   "metadata": {},
   "outputs": [
    {
     "data": {
      "text/plain": [
       "110"
      ]
     },
     "execution_count": 57,
     "metadata": {},
     "output_type": "execute_result"
    }
   ],
   "source": [
    "addi(y = 10,x =100)"
   ]
  },
  {
   "cell_type": "markdown",
   "id": "ae011f25",
   "metadata": {},
   "source": [
    "### Print & Return in function"
   ]
  },
  {
   "cell_type": "code",
   "execution_count": 59,
   "id": "5f1d5491",
   "metadata": {},
   "outputs": [],
   "source": [
    "def mat(x ,y):\n",
    "    result = x + y\n",
    "    print(result)"
   ]
  },
  {
   "cell_type": "code",
   "execution_count": 83,
   "id": "e28bc27c",
   "metadata": {},
   "outputs": [
    {
     "name": "stdout",
     "output_type": "stream",
     "text": [
      "101\n"
     ]
    }
   ],
   "source": [
    "mat(34,67)"
   ]
  },
  {
   "cell_type": "code",
   "execution_count": 84,
   "id": "afa97927",
   "metadata": {},
   "outputs": [
    {
     "name": "stdout",
     "output_type": "stream",
     "text": [
      "28\n"
     ]
    }
   ],
   "source": [
    "val = mat(23, 5) #it could also print like this"
   ]
  },
  {
   "cell_type": "code",
   "execution_count": 69,
   "id": "a551166e",
   "metadata": {},
   "outputs": [
    {
     "name": "stdout",
     "output_type": "stream",
     "text": [
      "None\n"
     ]
    }
   ],
   "source": [
    "print(val) #nothing gets printed, so above is useless"
   ]
  },
  {
   "cell_type": "code",
   "execution_count": 74,
   "id": "eb160278",
   "metadata": {},
   "outputs": [],
   "source": [
    "def matt(x ,y):\n",
    "    resultt = x + y\n",
    "    return resultt"
   ]
  },
  {
   "cell_type": "code",
   "execution_count": 85,
   "id": "b9c5124d",
   "metadata": {},
   "outputs": [
    {
     "name": "stdout",
     "output_type": "stream",
     "text": [
      "7\n"
     ]
    }
   ],
   "source": [
    "vall = matt(3,4)\n",
    "print(vall) #it prints the newly assigned variabe"
   ]
  },
  {
   "cell_type": "code",
   "execution_count": 79,
   "id": "aec915e5",
   "metadata": {},
   "outputs": [
    {
     "data": {
      "text/plain": [
       "112"
      ]
     },
     "execution_count": 79,
     "metadata": {},
     "output_type": "execute_result"
    }
   ],
   "source": [
    "matt(45,67)"
   ]
  },
  {
   "cell_type": "code",
   "execution_count": 80,
   "id": "99fc686e",
   "metadata": {},
   "outputs": [
    {
     "name": "stdout",
     "output_type": "stream",
     "text": [
      "28\n"
     ]
    }
   ],
   "source": [
    "mat(23, 5)"
   ]
  },
  {
   "cell_type": "code",
   "execution_count": 86,
   "id": "8b3dd148",
   "metadata": {},
   "outputs": [
    {
     "name": "stdout",
     "output_type": "stream",
     "text": [
      "Hello Kola\n",
      "Hello Kola\n",
      "Hello Kola\n",
      "Hello Kola\n",
      "Hello Kola\n"
     ]
    }
   ],
   "source": [
    "# write a function to print Hello Kola 5 times\n",
    "for i in range(5):\n",
    "    print(\"Hello Kola\")"
   ]
  },
  {
   "cell_type": "code",
   "execution_count": 100,
   "id": "35b63e94",
   "metadata": {},
   "outputs": [
    {
     "name": "stdout",
     "output_type": "stream",
     "text": [
      "Hello Kola\n",
      "Hello Kola\n",
      "Hello Kola\n",
      "Hello Kola\n",
      "Hello Kola\n"
     ]
    }
   ],
   "source": [
    "def greetings():\n",
    "    for i in range(5):\n",
    "        print(\"Hello Kola\")\n",
    "greetings()"
   ]
  },
  {
   "cell_type": "code",
   "execution_count": 103,
   "id": "ed5460d3",
   "metadata": {},
   "outputs": [
    {
     "name": "stdout",
     "output_type": "stream",
     "text": [
      "Hello Kenny\n",
      "Hello Kenny\n",
      "Hello Kenny\n",
      "Hello Kenny\n",
      "Hello Kenny\n"
     ]
    }
   ],
   "source": [
    "def greetings(name):\n",
    "    for i in range(5):\n",
    "        print(f\"Hello {name}\")\n",
    "greetings(\"Kenny\")"
   ]
  },
  {
   "cell_type": "code",
   "execution_count": 97,
   "id": "f2e97220",
   "metadata": {},
   "outputs": [],
   "source": [
    "y = greetings()"
   ]
  },
  {
   "cell_type": "code",
   "execution_count": 104,
   "id": "2e65150e",
   "metadata": {},
   "outputs": [],
   "source": [
    "# Default argument in function\n",
    "#note: your default should always come last\n",
    "def add(z, y = 9):\n",
    "    result= z + y\n",
    "    return result"
   ]
  },
  {
   "cell_type": "code",
   "execution_count": 108,
   "id": "3beb7ecf",
   "metadata": {},
   "outputs": [
    {
     "data": {
      "text/plain": [
       "14"
      ]
     },
     "execution_count": 108,
     "metadata": {},
     "output_type": "execute_result"
    }
   ],
   "source": [
    "add(z = 5)"
   ]
  },
  {
   "cell_type": "code",
   "execution_count": 109,
   "id": "12aa5503",
   "metadata": {},
   "outputs": [
    {
     "data": {
      "text/plain": [
       "15"
      ]
     },
     "execution_count": 109,
     "metadata": {},
     "output_type": "execute_result"
    }
   ],
   "source": [
    "# I can still change the y\n",
    "add(z = 5, y = 10)"
   ]
  },
  {
   "cell_type": "markdown",
   "id": "1a5f4d17",
   "metadata": {},
   "source": [
    "### Global, local, scope"
   ]
  },
  {
   "cell_type": "code",
   "execution_count": 118,
   "id": "100dd54b",
   "metadata": {},
   "outputs": [],
   "source": [
    "#1. LOCAL: known within the function they are defined\n",
    "#define a function to check if a numberr is odd\n",
    "def oddcheck(x):\n",
    "    if x % 2 == 1:\n",
    "        print(\"the number is odd\")\n",
    "    else:\n",
    "        print(\"the number is even\")"
   ]
  },
  {
   "cell_type": "code",
   "execution_count": 119,
   "id": "b39b13c1",
   "metadata": {},
   "outputs": [
    {
     "name": "stdout",
     "output_type": "stream",
     "text": [
      "the number is odd\n"
     ]
    }
   ],
   "source": [
    "oddcheck(x=17)"
   ]
  },
  {
   "cell_type": "code",
   "execution_count": 130,
   "id": "6c4dae33",
   "metadata": {},
   "outputs": [],
   "source": [
    "y = 70\n",
    "\n",
    "def oddcheck(x):\n",
    "    if x % 2 == 1:\n",
    "        print(\"the number is odd\")\n",
    "    elif y % 2 == 0:\n",
    "        print(\"this is even\")\n",
    "    else:\n",
    "        print(\"the number is even\")\n"
   ]
  },
  {
   "cell_type": "code",
   "execution_count": 131,
   "id": "ce4e3e8d",
   "metadata": {},
   "outputs": [
    {
     "name": "stdout",
     "output_type": "stream",
     "text": [
      "this is even\n"
     ]
    }
   ],
   "source": [
    "oddcheck(x = 8)"
   ]
  },
  {
   "cell_type": "code",
   "execution_count": 163,
   "id": "9c4ad8eb",
   "metadata": {},
   "outputs": [],
   "source": [
    "# write a function that accepts a list of any length as input\n",
    "# program should check for -1 in the list\n",
    "# return index if it is present otherwise return None\n",
    "result = []\n",
    "def indexcheck(number):\n",
    "    for i in number:\n",
    "        if i < 0:\n",
    "            return number.index(i)\n",
    "    return None  "
   ]
  },
  {
   "cell_type": "code",
   "execution_count": 168,
   "id": "b85bf146",
   "metadata": {},
   "outputs": [
    {
     "data": {
      "text/plain": [
       "2"
      ]
     },
     "execution_count": 168,
     "metadata": {},
     "output_type": "execute_result"
    }
   ],
   "source": [
    "A =[5, 7, -8, 65, 89]\n",
    "indexcheck(A)"
   ]
  },
  {
   "cell_type": "code",
   "execution_count": 171,
   "id": "31a6c949",
   "metadata": {},
   "outputs": [
    {
     "data": {
      "text/plain": [
       "NoneType"
      ]
     },
     "execution_count": 171,
     "metadata": {},
     "output_type": "execute_result"
    }
   ],
   "source": [
    "# return none is outseide the if statement\n",
    "# it first sees 5 then it goes back to the loop to check oda nos\n",
    "# if an else to return none is inside the if, once itgrabs the 1st no,\n",
    "#it will print out none if the no is even\n",
    "# if no -ve is found it will return none\n",
    "B = [5, 7, 8, 18, 65, 89]\n",
    "i = indexcheck(B)\n",
    "type(i)"
   ]
  },
  {
   "cell_type": "markdown",
   "id": "d72cdfb1",
   "metadata": {},
   "source": [
    "## create a function to add new names and new grades to a dictionary"
   ]
  },
  {
   "cell_type": "code",
   "execution_count": 7,
   "id": "3aa6ed57",
   "metadata": {},
   "outputs": [],
   "source": [
    "student_grades = {\"Kola\":67, \"Kay\":76, \"Bayo\":56}\n",
    "new_names = [\"Femi\", \"Ay\" , \"Dami\"]\n",
    "new_grades = [45,67,34]"
   ]
  },
  {
   "cell_type": "code",
   "execution_count": 10,
   "id": "57a98d24",
   "metadata": {},
   "outputs": [],
   "source": [
    "result = {}\n",
    "def sch_grades(names, grades):\n",
    "    for k,v in zip(names, grades):\n",
    "        result[k] = v\n",
    "    return result"
   ]
  },
  {
   "cell_type": "code",
   "execution_count": 11,
   "id": "ae042c00",
   "metadata": {},
   "outputs": [
    {
     "data": {
      "text/plain": [
       "{'Femi': 45, 'Ay': 67, 'Dami': 34}"
      ]
     },
     "execution_count": 11,
     "metadata": {},
     "output_type": "execute_result"
    }
   ],
   "source": [
    "result = sch_grades(new_names, new_grades)\n",
    "result"
   ]
  },
  {
   "cell_type": "code",
   "execution_count": 12,
   "id": "f9c68b39",
   "metadata": {},
   "outputs": [
    {
     "data": {
      "text/plain": [
       "{'Kola': 67, 'Kay': 76, 'Bayo': 56, 'Femi': 45, 'Ay': 67, 'Dami': 34}"
      ]
     },
     "execution_count": 12,
     "metadata": {},
     "output_type": "execute_result"
    }
   ],
   "source": [
    "student_grades.update(result)\n",
    "student_grades"
   ]
  },
  {
   "cell_type": "markdown",
   "id": "81bb3163",
   "metadata": {},
   "source": [
    "### write a function that shows only those with 60 and above"
   ]
  },
  {
   "cell_type": "code",
   "execution_count": 37,
   "id": "e4be9d73",
   "metadata": {},
   "outputs": [],
   "source": [
    "good_students = {}\n",
    "def sixty_plus(dict1):\n",
    "    for k,v in dict1.items():\n",
    "        if v >= 60:\n",
    "            good_students[k]=v\n",
    "    return good_students    "
   ]
  },
  {
   "cell_type": "code",
   "execution_count": 39,
   "id": "9333b509",
   "metadata": {},
   "outputs": [
    {
     "data": {
      "text/plain": [
       "{'Kola': 67, 'Kay': 76, 'Ay': 67}"
      ]
     },
     "execution_count": 39,
     "metadata": {},
     "output_type": "execute_result"
    }
   ],
   "source": [
    "sixty_plus(student_grades)"
   ]
  },
  {
   "cell_type": "markdown",
   "id": "e3e7093c",
   "metadata": {},
   "source": [
    "### Lambda function"
   ]
  },
  {
   "cell_type": "code",
   "execution_count": 40,
   "id": "a4c03f72",
   "metadata": {},
   "outputs": [],
   "source": [
    "def add_10(x):\n",
    "    return x + 10"
   ]
  },
  {
   "cell_type": "code",
   "execution_count": 41,
   "id": "a02607ff",
   "metadata": {},
   "outputs": [
    {
     "data": {
      "text/plain": [
       "66"
      ]
     },
     "execution_count": 41,
     "metadata": {},
     "output_type": "execute_result"
    }
   ],
   "source": [
    "add_10(56)"
   ]
  },
  {
   "cell_type": "code",
   "execution_count": 42,
   "id": "d7fae8b5",
   "metadata": {},
   "outputs": [
    {
     "data": {
      "text/plain": [
       "77"
      ]
     },
     "execution_count": 42,
     "metadata": {},
     "output_type": "execute_result"
    }
   ],
   "source": [
    "add_ten = lambda x: x+10\n",
    "add_ten(67)"
   ]
  },
  {
   "cell_type": "code",
   "execution_count": 44,
   "id": "c72dd777",
   "metadata": {},
   "outputs": [
    {
     "data": {
      "text/plain": [
       "16.0"
      ]
     },
     "execution_count": 44,
     "metadata": {},
     "output_type": "execute_result"
    }
   ],
   "source": [
    "# a lambda function that multiplies arg a with b\n",
    "mult = lambda a,b,c : (a*b)/c\n",
    "mult(8,48, 24)"
   ]
  },
  {
   "cell_type": "markdown",
   "id": "fee2b0a4",
   "metadata": {},
   "source": [
    "### CLASS"
   ]
  },
  {
   "cell_type": "code",
   "execution_count": 71,
   "id": "11517831",
   "metadata": {},
   "outputs": [],
   "source": [
    "class Person:\n",
    "    def __init__(self,name, age): #initializing the class\n",
    "        self.fname = name\n",
    "        self.fage = age\n",
    "        \n",
    "    def greeting(self):\n",
    "        print(\"Welcome!\", \"Your name and age are:\", self.fname, \"&\", self.fage)\n",
    "        \n",
    "    def setName(self, new_name):\n",
    "        self.fname = new_name\n",
    "        \n",
    "    def getName(self):\n",
    "        return self.fname"
   ]
  },
  {
   "cell_type": "code",
   "execution_count": 86,
   "id": "13372fe6",
   "metadata": {},
   "outputs": [
    {
     "name": "stdout",
     "output_type": "stream",
     "text": [
      "Welcome! Your name and age are: kola & 32\n"
     ]
    }
   ],
   "source": [
    "#declare a class\n",
    "person1 = Person(\"kola\", 32)\n",
    "person1.greeting()"
   ]
  },
  {
   "cell_type": "code",
   "execution_count": 87,
   "id": "0e15ca72",
   "metadata": {},
   "outputs": [
    {
     "data": {
      "text/plain": [
       "'kola'"
      ]
     },
     "execution_count": 87,
     "metadata": {},
     "output_type": "execute_result"
    }
   ],
   "source": [
    "person1.getName()"
   ]
  },
  {
   "cell_type": "code",
   "execution_count": 88,
   "id": "2f73373f",
   "metadata": {},
   "outputs": [
    {
     "data": {
      "text/plain": [
       "'Gbenga'"
      ]
     },
     "execution_count": 88,
     "metadata": {},
     "output_type": "execute_result"
    }
   ],
   "source": [
    "person1.setName(\"Gbenga\")\n",
    "person1.getName()"
   ]
  },
  {
   "cell_type": "markdown",
   "id": "df21226f",
   "metadata": {},
   "source": [
    "### Class Inheritance "
   ]
  },
  {
   "cell_type": "code",
   "execution_count": 77,
   "id": "f45c704a",
   "metadata": {},
   "outputs": [],
   "source": [
    "# create a sample child class from the Person class\n",
    "class Member(Person):\n",
    "    pass\n",
    "# member automatically inherits Parent class"
   ]
  },
  {
   "cell_type": "code",
   "execution_count": 78,
   "id": "67015579",
   "metadata": {},
   "outputs": [
    {
     "data": {
      "text/plain": [
       "'Olufemi'"
      ]
     },
     "execution_count": 78,
     "metadata": {},
     "output_type": "execute_result"
    }
   ],
   "source": [
    "member1 = Member(\"Olufemi\", 27)\n",
    "member1.getName()"
   ]
  },
  {
   "cell_type": "code",
   "execution_count": 90,
   "id": "21fafa13",
   "metadata": {},
   "outputs": [],
   "source": [
    "#in case we want to update an inherited class,\n",
    "# we use super() - to initialize a child class\n",
    "class Members(Person):\n",
    "    def __init__(self, name, age, subject):\n",
    "        super().__init__(name, age)\n",
    "        self.sub = subject"
   ]
  },
  {
   "cell_type": "code",
   "execution_count": 89,
   "id": "ec16475a",
   "metadata": {},
   "outputs": [
    {
     "data": {
      "text/plain": [
       "'Kenny'"
      ]
     },
     "execution_count": 89,
     "metadata": {},
     "output_type": "execute_result"
    }
   ],
   "source": [
    "# create an instance of the child class and access a method\n",
    "members1 = Members(\"Kenny\", 27 ,\"AI\")\n",
    "members1.getName()"
   ]
  },
  {
   "cell_type": "markdown",
   "id": "1a7d53a9",
   "metadata": {},
   "source": [
    "## Designing Programs using Python Classes\n",
    "\n",
    "Discussion 1; write a program to model a dog; the dog should have an age and name. the dog should be able to sit and rollover\n"
   ]
  },
  {
   "cell_type": "code",
   "execution_count": 103,
   "id": "8cd2edf2",
   "metadata": {},
   "outputs": [],
   "source": [
    "class Dog():\n",
    "    def __init__(self, name, age):\n",
    "        self.name = name\n",
    "        self.age = age\n",
    "    def sit(self):\n",
    "        print(self.name + \" is sitting on the couch\")\n",
    "    def rollOver(self):\n",
    "        print(self.name + \" has rolled over\")"
   ]
  },
  {
   "cell_type": "code",
   "execution_count": 104,
   "id": "c9b2b39b",
   "metadata": {},
   "outputs": [
    {
     "data": {
      "text/plain": [
       "'Wee'"
      ]
     },
     "execution_count": 104,
     "metadata": {},
     "output_type": "execute_result"
    }
   ],
   "source": [
    "dog1 = Dog(\"Wee\", 5)\n",
    "dog1.name"
   ]
  },
  {
   "cell_type": "code",
   "execution_count": 105,
   "id": "731a1e2b",
   "metadata": {},
   "outputs": [
    {
     "name": "stdout",
     "output_type": "stream",
     "text": [
      "Wee is sitting on the couch\n"
     ]
    }
   ],
   "source": [
    "dog1.sit()"
   ]
  },
  {
   "cell_type": "code",
   "execution_count": 106,
   "id": "5c6722a2",
   "metadata": {},
   "outputs": [
    {
     "name": "stdout",
     "output_type": "stream",
     "text": [
      "Wee has rolled over\n"
     ]
    }
   ],
   "source": [
    "dog1.rollOver()"
   ]
  },
  {
   "cell_type": "markdown",
   "id": "3c75eec5",
   "metadata": {},
   "source": [
    "Discussion 2; make a class called restaurant. the restaurant has 2 attribute- the class name and the cuisine_type. Make a method called describe_restaurant that prints two informationand a method called open_restaurants that prints a message showing the restaurant is opened <br>\n",
    "-Add another attribute callednumber_served(0 with a default number of 0 <br>\n",
    "-add a method called set_number_served() that let's you see the number of customers thathave been served <br>\n",
    "-add a method called increase_number_served() that let's you increase the number of customers thathave been served"
   ]
  },
  {
   "cell_type": "code",
   "execution_count": 262,
   "id": "8b7b44c3",
   "metadata": {},
   "outputs": [],
   "source": [
    "class Restaurant():\n",
    "    def __init__(self, name, cuisine_type):\n",
    "        self.name= name\n",
    "        self.cuisine_type = cuisine_type\n",
    "        self.number_served = 0\n",
    "    def describe_restaurant(self):\n",
    "        print(self.name + \" offers various types of \"+ self.cuisine_type)\n",
    "    def open_restaurant(self):\n",
    "        print(\"At\", self.name + \", we are open to serve you \"+ self.cuisine_type)    \n",
    "    def set_number_served(self, num):\n",
    "        self.number_served = num\n",
    "    def increase_number_served(self, num):\n",
    "        self.number_served += num\n",
    "        #print(\"We just served \" + str(num) + \" number of people! this gives \"\n",
    "        #      +str(self.number_served))\n",
    "        \"\"\"to concatenate without the + sign, you can add f before the string\"\"\"\n",
    "        print(f\"We just served {num} number of people! This gives {self.number_served}\")"
   ]
  },
  {
   "cell_type": "code",
   "execution_count": 263,
   "id": "ac11f4db",
   "metadata": {},
   "outputs": [
    {
     "data": {
      "text/plain": [
       "'McDonald'"
      ]
     },
     "execution_count": 263,
     "metadata": {},
     "output_type": "execute_result"
    }
   ],
   "source": [
    "res1 = Restaurant(\"McDonald\", \"Burger\")\n",
    "res1.name"
   ]
  },
  {
   "cell_type": "code",
   "execution_count": 264,
   "id": "4b4ab28b",
   "metadata": {},
   "outputs": [
    {
     "data": {
      "text/plain": [
       "'Burger'"
      ]
     },
     "execution_count": 264,
     "metadata": {},
     "output_type": "execute_result"
    }
   ],
   "source": [
    "res1.cuisine_type"
   ]
  },
  {
   "cell_type": "code",
   "execution_count": 265,
   "id": "ff87cc1b",
   "metadata": {},
   "outputs": [
    {
     "name": "stdout",
     "output_type": "stream",
     "text": [
      "McDonald offers various types of Burger\n"
     ]
    }
   ],
   "source": [
    "res1.describe_restaurant()"
   ]
  },
  {
   "cell_type": "code",
   "execution_count": 266,
   "id": "369562d8",
   "metadata": {},
   "outputs": [
    {
     "name": "stdout",
     "output_type": "stream",
     "text": [
      "At McDonald, we are open to serve you Burger\n"
     ]
    }
   ],
   "source": [
    "res1.open_restaurant()"
   ]
  },
  {
   "cell_type": "code",
   "execution_count": 267,
   "id": "98e1f16e",
   "metadata": {},
   "outputs": [
    {
     "data": {
      "text/plain": [
       "0"
      ]
     },
     "execution_count": 267,
     "metadata": {},
     "output_type": "execute_result"
    }
   ],
   "source": [
    "res1.number_served"
   ]
  },
  {
   "cell_type": "code",
   "execution_count": 268,
   "id": "3e8beea3",
   "metadata": {},
   "outputs": [],
   "source": [
    "res1.set_number_served(30)"
   ]
  },
  {
   "cell_type": "code",
   "execution_count": 269,
   "id": "bc9c513a",
   "metadata": {},
   "outputs": [
    {
     "data": {
      "text/plain": [
       "30"
      ]
     },
     "execution_count": 269,
     "metadata": {},
     "output_type": "execute_result"
    }
   ],
   "source": [
    "res1.number_served"
   ]
  },
  {
   "cell_type": "code",
   "execution_count": 270,
   "id": "aa7760e3",
   "metadata": {},
   "outputs": [
    {
     "name": "stdout",
     "output_type": "stream",
     "text": [
      "We just served 20 number of people! This gives 50\n"
     ]
    }
   ],
   "source": [
    "res1.increase_number_served(20)"
   ]
  },
  {
   "cell_type": "markdown",
   "id": "859f6473",
   "metadata": {},
   "source": [
    "Discussion 3: Make a class called User with two attributes: first_name and last_name. you can create other attributes typically stored in a user profile <br>\n",
    "-make a method called decribe_user() that prints a summary of user info <br>\n",
    "-make a method called greet_user() that prints a personalized greeting to an user <br>\n",
    "-add a attribute called login_attempt to your User class <br>\n",
    "-write a method called increment_login_attempt() that increments the value of login_attempt by 1 <br>\n",
    "-write a method called reset_login_attempt() that resets the number of login_attempt to 0 <br>"
   ]
  },
  {
   "cell_type": "code",
   "execution_count": 284,
   "id": "4c327ed3",
   "metadata": {},
   "outputs": [],
   "source": [
    "class User():\n",
    "    login_attempt= 1 #declaring it outside the mtd since we wont be changing it\n",
    "    def __init__(self, first_name, last_name):\n",
    "        self.name= first_name\n",
    "        self.last_name = last_name\n",
    "        self.login_attempt = 0\n",
    "    def increase_login_attempt(self):\n",
    "        self.login_attempt +=1 \n",
    "        print(f\"login attempt is {self.login_attempt}\")"
   ]
  },
  {
   "cell_type": "code",
   "execution_count": 285,
   "id": "0579eedf",
   "metadata": {},
   "outputs": [
    {
     "data": {
      "text/plain": [
       "'Kola'"
      ]
     },
     "execution_count": 285,
     "metadata": {},
     "output_type": "execute_result"
    }
   ],
   "source": [
    "user1 = User(\"Kola\", \"Oso\")\n",
    "user1.name"
   ]
  },
  {
   "cell_type": "code",
   "execution_count": 286,
   "id": "cbddeb1e",
   "metadata": {},
   "outputs": [
    {
     "data": {
      "text/plain": [
       "0"
      ]
     },
     "execution_count": 286,
     "metadata": {},
     "output_type": "execute_result"
    }
   ],
   "source": [
    "user1.login_attempt"
   ]
  },
  {
   "cell_type": "code",
   "execution_count": 288,
   "id": "9940c7d3",
   "metadata": {},
   "outputs": [
    {
     "name": "stdout",
     "output_type": "stream",
     "text": [
      "login attempt is 1\n"
     ]
    }
   ],
   "source": [
    "user1.increase_login_attempt()"
   ]
  },
  {
   "cell_type": "markdown",
   "id": "1c69c9e7",
   "metadata": {},
   "source": [
    "## Introduction to Pandas\n",
    "\n",
    "### DATA EXPLORATION"
   ]
  },
  {
   "cell_type": "markdown",
   "id": "5674166e",
   "metadata": {},
   "source": [
    "import pandas as pd"
   ]
  },
  {
   "cell_type": "code",
   "execution_count": 292,
   "id": "33eb8945",
   "metadata": {},
   "outputs": [
    {
     "data": {
      "text/html": [
       "<div>\n",
       "<style scoped>\n",
       "    .dataframe tbody tr th:only-of-type {\n",
       "        vertical-align: middle;\n",
       "    }\n",
       "\n",
       "    .dataframe tbody tr th {\n",
       "        vertical-align: top;\n",
       "    }\n",
       "\n",
       "    .dataframe thead th {\n",
       "        text-align: right;\n",
       "    }\n",
       "</style>\n",
       "<table border=\"1\" class=\"dataframe\">\n",
       "  <thead>\n",
       "    <tr style=\"text-align: right;\">\n",
       "      <th></th>\n",
       "      <th>jobTitle</th>\n",
       "      <th>gender</th>\n",
       "      <th>age</th>\n",
       "      <th>perfEval</th>\n",
       "      <th>edu</th>\n",
       "      <th>dept</th>\n",
       "      <th>seniority</th>\n",
       "      <th>basePay</th>\n",
       "      <th>bonus</th>\n",
       "    </tr>\n",
       "  </thead>\n",
       "  <tbody>\n",
       "    <tr>\n",
       "      <th>0</th>\n",
       "      <td>Graphic Designer</td>\n",
       "      <td>Female</td>\n",
       "      <td>18</td>\n",
       "      <td>5</td>\n",
       "      <td>College</td>\n",
       "      <td>Operations</td>\n",
       "      <td>2</td>\n",
       "      <td>42363</td>\n",
       "      <td>9938</td>\n",
       "    </tr>\n",
       "    <tr>\n",
       "      <th>1</th>\n",
       "      <td>Software Engineer</td>\n",
       "      <td>Male</td>\n",
       "      <td>21</td>\n",
       "      <td>5</td>\n",
       "      <td>College</td>\n",
       "      <td>Management</td>\n",
       "      <td>5</td>\n",
       "      <td>108476</td>\n",
       "      <td>11128</td>\n",
       "    </tr>\n",
       "    <tr>\n",
       "      <th>2</th>\n",
       "      <td>Warehouse Associate</td>\n",
       "      <td>Female</td>\n",
       "      <td>19</td>\n",
       "      <td>4</td>\n",
       "      <td>PhD</td>\n",
       "      <td>Administration</td>\n",
       "      <td>5</td>\n",
       "      <td>90208</td>\n",
       "      <td>9268</td>\n",
       "    </tr>\n",
       "    <tr>\n",
       "      <th>3</th>\n",
       "      <td>Software Engineer</td>\n",
       "      <td>Male</td>\n",
       "      <td>20</td>\n",
       "      <td>5</td>\n",
       "      <td>Masters</td>\n",
       "      <td>Sales</td>\n",
       "      <td>4</td>\n",
       "      <td>108080</td>\n",
       "      <td>10154</td>\n",
       "    </tr>\n",
       "    <tr>\n",
       "      <th>4</th>\n",
       "      <td>Graphic Designer</td>\n",
       "      <td>Male</td>\n",
       "      <td>26</td>\n",
       "      <td>5</td>\n",
       "      <td>Masters</td>\n",
       "      <td>Engineering</td>\n",
       "      <td>5</td>\n",
       "      <td>99464</td>\n",
       "      <td>9319</td>\n",
       "    </tr>\n",
       "  </tbody>\n",
       "</table>\n",
       "</div>"
      ],
      "text/plain": [
       "              jobTitle  gender  age  perfEval      edu            dept  \\\n",
       "0     Graphic Designer  Female   18         5  College      Operations   \n",
       "1    Software Engineer    Male   21         5  College      Management   \n",
       "2  Warehouse Associate  Female   19         4      PhD  Administration   \n",
       "3    Software Engineer    Male   20         5  Masters           Sales   \n",
       "4     Graphic Designer    Male   26         5  Masters     Engineering   \n",
       "\n",
       "   seniority  basePay  bonus  \n",
       "0          2    42363   9938  \n",
       "1          5   108476  11128  \n",
       "2          5    90208   9268  \n",
       "3          4   108080  10154  \n",
       "4          5    99464   9319  "
      ]
     },
     "execution_count": 292,
     "metadata": {},
     "output_type": "execute_result"
    }
   ],
   "source": [
    "df = pd.read_csv(r\"E:\\Libraries\\Downloads\\Employee.csv\")\n",
    "df.head()"
   ]
  },
  {
   "cell_type": "markdown",
   "id": "8958a87f",
   "metadata": {},
   "source": [
    "### Data info\n",
    "df.info: this gives comprehensive info about our data such as no of row, column,rows that are not empty , types of variables, etc. <br>\n",
    "others include: .dtype, .shape"
   ]
  },
  {
   "cell_type": "code",
   "execution_count": 293,
   "id": "25e845cf",
   "metadata": {},
   "outputs": [
    {
     "name": "stdout",
     "output_type": "stream",
     "text": [
      "<class 'pandas.core.frame.DataFrame'>\n",
      "RangeIndex: 1000 entries, 0 to 999\n",
      "Data columns (total 9 columns):\n",
      " #   Column     Non-Null Count  Dtype \n",
      "---  ------     --------------  ----- \n",
      " 0   jobTitle   1000 non-null   object\n",
      " 1   gender     1000 non-null   object\n",
      " 2   age        1000 non-null   int64 \n",
      " 3   perfEval   1000 non-null   int64 \n",
      " 4   edu        1000 non-null   object\n",
      " 5   dept       1000 non-null   object\n",
      " 6   seniority  1000 non-null   int64 \n",
      " 7   basePay    1000 non-null   int64 \n",
      " 8   bonus      1000 non-null   int64 \n",
      "dtypes: int64(5), object(4)\n",
      "memory usage: 70.4+ KB\n"
     ]
    }
   ],
   "source": [
    "df.info()"
   ]
  },
  {
   "cell_type": "markdown",
   "id": "81852fde",
   "metadata": {},
   "source": [
    "### Missing values\n",
    "df.isnull().sum(): sum of missing values\n"
   ]
  },
  {
   "cell_type": "code",
   "execution_count": 295,
   "id": "045759aa",
   "metadata": {},
   "outputs": [
    {
     "data": {
      "text/plain": [
       "jobTitle     0\n",
       "gender       0\n",
       "age          0\n",
       "perfEval     0\n",
       "edu          0\n",
       "dept         0\n",
       "seniority    0\n",
       "basePay      0\n",
       "bonus        0\n",
       "dtype: int64"
      ]
     },
     "execution_count": 295,
     "metadata": {},
     "output_type": "execute_result"
    }
   ],
   "source": [
    "df.isnull().sum()"
   ]
  },
  {
   "cell_type": "markdown",
   "id": "a85a5f90",
   "metadata": {},
   "source": [
    "###### NO MISSING VALUES\n",
    "\n",
    "just because there are no missing values doesn.t meant the entries are correct. some might use Age of 0, this is technically a missing value"
   ]
  },
  {
   "cell_type": "markdown",
   "id": "e6dc9e6f",
   "metadata": {},
   "source": [
    "### Missing strings\n",
    "df.isna().sum() <br>\n",
    "df.isna().isnull().sum() for missing string + missing values"
   ]
  },
  {
   "cell_type": "code",
   "execution_count": 298,
   "id": "4c4909d0",
   "metadata": {},
   "outputs": [
    {
     "data": {
      "text/plain": [
       "jobTitle     0\n",
       "gender       0\n",
       "age          0\n",
       "perfEval     0\n",
       "edu          0\n",
       "dept         0\n",
       "seniority    0\n",
       "basePay      0\n",
       "bonus        0\n",
       "dtype: int64"
      ]
     },
     "execution_count": 298,
     "metadata": {},
     "output_type": "execute_result"
    }
   ],
   "source": [
    "df.isna().isnull().sum()"
   ]
  },
  {
   "cell_type": "markdown",
   "id": "ce46a280",
   "metadata": {},
   "source": [
    "### Unique – column entries\n",
    "df.Age.unique( )  - shows all the unique entries in a variable <br>\n",
    "df.Age.nuique ( )– shows the number of all the unique entries in a variable <br>\n",
    "\n",
    "in cases the variable has spaces in it, a more universal way is <br>\n",
    "df[“Age of Members”].unique(  <br>\n",
    "df[“Age of Members”].nunique( ) <br>\n"
   ]
  },
  {
   "cell_type": "code",
   "execution_count": 299,
   "id": "8bfb44c5",
   "metadata": {},
   "outputs": [
    {
     "data": {
      "text/plain": [
       "array(['Graphic Designer', 'Software Engineer', 'Warehouse Associate',\n",
       "       'IT', 'Sales Associate', 'Driver', 'Financial Analyst',\n",
       "       'Marketing Associate', 'Data Scientist', 'Manager'], dtype=object)"
      ]
     },
     "execution_count": 299,
     "metadata": {},
     "output_type": "execute_result"
    }
   ],
   "source": [
    "df[\"jobTitle\"].unique()"
   ]
  },
  {
   "cell_type": "code",
   "execution_count": 300,
   "id": "a39c4df2",
   "metadata": {},
   "outputs": [
    {
     "data": {
      "text/plain": [
       "2"
      ]
     },
     "execution_count": 300,
     "metadata": {},
     "output_type": "execute_result"
    }
   ],
   "source": [
    "df[\"gender\"].nunique() # 2 genders are present which are male and female"
   ]
  },
  {
   "cell_type": "markdown",
   "id": "f16cc385",
   "metadata": {},
   "source": [
    "### Unique Statitstics/ Occurences -column entries including empty strings\n",
    "df[“Age of Members”].value_counts(): show each unique entries with the numbers."
   ]
  },
  {
   "cell_type": "code",
   "execution_count": 326,
   "id": "590e34c8",
   "metadata": {},
   "outputs": [
    {
     "data": {
      "text/plain": [
       "Operations        210\n",
       "Sales             207\n",
       "Management        198\n",
       "Administration    193\n",
       "Engineering       192\n",
       "Name: dept, dtype: int64"
      ]
     },
     "execution_count": 326,
     "metadata": {},
     "output_type": "execute_result"
    }
   ],
   "source": [
    "df[\"dept\"].value_counts()"
   ]
  },
  {
   "cell_type": "markdown",
   "id": "a789da0f",
   "metadata": {},
   "source": [
    "### Duplicates\n",
    "these are when 2 or more rows have same info/entries across all the columns<br>\n",
    "i.e. same name, same age, same job type, same gender, etc. the law of statisctics  allow us to drop them<br>\n",
    "because we only need one instance of Kola and one instance of Kenny<br>\n",
    "df.duplcated().sum() – to check duplicates <br>\n",
    "df[df.duplicated() == True] <br>\n",
    "df.drop_duplicates() – to delete them<br>\n"
   ]
  },
  {
   "cell_type": "code",
   "execution_count": 310,
   "id": "810dc340",
   "metadata": {
    "scrolled": true
   },
   "outputs": [
    {
     "data": {
      "text/plain": [
       "0"
      ]
     },
     "execution_count": 310,
     "metadata": {},
     "output_type": "execute_result"
    }
   ],
   "source": [
    "df.duplicated().sum() #no duplicates in the data"
   ]
  },
  {
   "cell_type": "code",
   "execution_count": 334,
   "id": "6454b7fb",
   "metadata": {},
   "outputs": [
    {
     "data": {
      "text/html": [
       "<div>\n",
       "<style scoped>\n",
       "    .dataframe tbody tr th:only-of-type {\n",
       "        vertical-align: middle;\n",
       "    }\n",
       "\n",
       "    .dataframe tbody tr th {\n",
       "        vertical-align: top;\n",
       "    }\n",
       "\n",
       "    .dataframe thead th {\n",
       "        text-align: right;\n",
       "    }\n",
       "</style>\n",
       "<table border=\"1\" class=\"dataframe\">\n",
       "  <thead>\n",
       "    <tr style=\"text-align: right;\">\n",
       "      <th></th>\n",
       "      <th>jobTitle</th>\n",
       "      <th>gender</th>\n",
       "      <th>Age</th>\n",
       "      <th>perfEval</th>\n",
       "      <th>edu</th>\n",
       "      <th>dept</th>\n",
       "      <th>seniority</th>\n",
       "      <th>basePay</th>\n",
       "      <th>bonus</th>\n",
       "    </tr>\n",
       "  </thead>\n",
       "  <tbody>\n",
       "  </tbody>\n",
       "</table>\n",
       "</div>"
      ],
      "text/plain": [
       "Empty DataFrame\n",
       "Columns: [jobTitle, gender, Age, perfEval, edu, dept, seniority, basePay, bonus]\n",
       "Index: []"
      ]
     },
     "execution_count": 334,
     "metadata": {},
     "output_type": "execute_result"
    }
   ],
   "source": [
    "df[df.duplicated() == True]"
   ]
  },
  {
   "cell_type": "markdown",
   "id": "de2b05ed",
   "metadata": {},
   "source": [
    "### Decriptive Statistics:\n",
    "df.describe is used which show only the numeric by default <br>\n",
    "df.describe(include = \"all\").T -for all variables"
   ]
  },
  {
   "cell_type": "code",
   "execution_count": 325,
   "id": "fa45a652",
   "metadata": {},
   "outputs": [
    {
     "data": {
      "text/html": [
       "<div>\n",
       "<style scoped>\n",
       "    .dataframe tbody tr th:only-of-type {\n",
       "        vertical-align: middle;\n",
       "    }\n",
       "\n",
       "    .dataframe tbody tr th {\n",
       "        vertical-align: top;\n",
       "    }\n",
       "\n",
       "    .dataframe thead th {\n",
       "        text-align: right;\n",
       "    }\n",
       "</style>\n",
       "<table border=\"1\" class=\"dataframe\">\n",
       "  <thead>\n",
       "    <tr style=\"text-align: right;\">\n",
       "      <th></th>\n",
       "      <th>count</th>\n",
       "      <th>unique</th>\n",
       "      <th>top</th>\n",
       "      <th>freq</th>\n",
       "      <th>mean</th>\n",
       "      <th>std</th>\n",
       "      <th>min</th>\n",
       "      <th>25%</th>\n",
       "      <th>50%</th>\n",
       "      <th>75%</th>\n",
       "      <th>max</th>\n",
       "    </tr>\n",
       "  </thead>\n",
       "  <tbody>\n",
       "    <tr>\n",
       "      <th>jobTitle</th>\n",
       "      <td>1000</td>\n",
       "      <td>10</td>\n",
       "      <td>Marketing Associate</td>\n",
       "      <td>118</td>\n",
       "      <td>NaN</td>\n",
       "      <td>NaN</td>\n",
       "      <td>NaN</td>\n",
       "      <td>NaN</td>\n",
       "      <td>NaN</td>\n",
       "      <td>NaN</td>\n",
       "      <td>NaN</td>\n",
       "    </tr>\n",
       "    <tr>\n",
       "      <th>gender</th>\n",
       "      <td>1000</td>\n",
       "      <td>2</td>\n",
       "      <td>Male</td>\n",
       "      <td>532</td>\n",
       "      <td>NaN</td>\n",
       "      <td>NaN</td>\n",
       "      <td>NaN</td>\n",
       "      <td>NaN</td>\n",
       "      <td>NaN</td>\n",
       "      <td>NaN</td>\n",
       "      <td>NaN</td>\n",
       "    </tr>\n",
       "    <tr>\n",
       "      <th>Age</th>\n",
       "      <td>1000.0</td>\n",
       "      <td>NaN</td>\n",
       "      <td>NaN</td>\n",
       "      <td>NaN</td>\n",
       "      <td>41.393</td>\n",
       "      <td>14.294856</td>\n",
       "      <td>18.0</td>\n",
       "      <td>29.0</td>\n",
       "      <td>41.0</td>\n",
       "      <td>54.25</td>\n",
       "      <td>65.0</td>\n",
       "    </tr>\n",
       "    <tr>\n",
       "      <th>perfEval</th>\n",
       "      <td>1000.0</td>\n",
       "      <td>NaN</td>\n",
       "      <td>NaN</td>\n",
       "      <td>NaN</td>\n",
       "      <td>3.037</td>\n",
       "      <td>1.423959</td>\n",
       "      <td>1.0</td>\n",
       "      <td>2.0</td>\n",
       "      <td>3.0</td>\n",
       "      <td>4.0</td>\n",
       "      <td>5.0</td>\n",
       "    </tr>\n",
       "    <tr>\n",
       "      <th>edu</th>\n",
       "      <td>1000</td>\n",
       "      <td>4</td>\n",
       "      <td>High School</td>\n",
       "      <td>265</td>\n",
       "      <td>NaN</td>\n",
       "      <td>NaN</td>\n",
       "      <td>NaN</td>\n",
       "      <td>NaN</td>\n",
       "      <td>NaN</td>\n",
       "      <td>NaN</td>\n",
       "      <td>NaN</td>\n",
       "    </tr>\n",
       "    <tr>\n",
       "      <th>dept</th>\n",
       "      <td>1000</td>\n",
       "      <td>5</td>\n",
       "      <td>Operations</td>\n",
       "      <td>210</td>\n",
       "      <td>NaN</td>\n",
       "      <td>NaN</td>\n",
       "      <td>NaN</td>\n",
       "      <td>NaN</td>\n",
       "      <td>NaN</td>\n",
       "      <td>NaN</td>\n",
       "      <td>NaN</td>\n",
       "    </tr>\n",
       "    <tr>\n",
       "      <th>seniority</th>\n",
       "      <td>1000.0</td>\n",
       "      <td>NaN</td>\n",
       "      <td>NaN</td>\n",
       "      <td>NaN</td>\n",
       "      <td>2.971</td>\n",
       "      <td>1.395029</td>\n",
       "      <td>1.0</td>\n",
       "      <td>2.0</td>\n",
       "      <td>3.0</td>\n",
       "      <td>4.0</td>\n",
       "      <td>5.0</td>\n",
       "    </tr>\n",
       "    <tr>\n",
       "      <th>basePay</th>\n",
       "      <td>1000.0</td>\n",
       "      <td>NaN</td>\n",
       "      <td>NaN</td>\n",
       "      <td>NaN</td>\n",
       "      <td>94472.653</td>\n",
       "      <td>25337.493272</td>\n",
       "      <td>34208.0</td>\n",
       "      <td>76850.25</td>\n",
       "      <td>93327.5</td>\n",
       "      <td>111558.0</td>\n",
       "      <td>179726.0</td>\n",
       "    </tr>\n",
       "    <tr>\n",
       "      <th>bonus</th>\n",
       "      <td>1000.0</td>\n",
       "      <td>NaN</td>\n",
       "      <td>NaN</td>\n",
       "      <td>NaN</td>\n",
       "      <td>6467.161</td>\n",
       "      <td>2004.377365</td>\n",
       "      <td>1703.0</td>\n",
       "      <td>4849.5</td>\n",
       "      <td>6507.0</td>\n",
       "      <td>8026.0</td>\n",
       "      <td>11293.0</td>\n",
       "    </tr>\n",
       "  </tbody>\n",
       "</table>\n",
       "</div>"
      ],
      "text/plain": [
       "            count unique                  top freq       mean           std  \\\n",
       "jobTitle     1000     10  Marketing Associate  118        NaN           NaN   \n",
       "gender       1000      2                 Male  532        NaN           NaN   \n",
       "Age        1000.0    NaN                  NaN  NaN     41.393     14.294856   \n",
       "perfEval   1000.0    NaN                  NaN  NaN      3.037      1.423959   \n",
       "edu          1000      4          High School  265        NaN           NaN   \n",
       "dept         1000      5           Operations  210        NaN           NaN   \n",
       "seniority  1000.0    NaN                  NaN  NaN      2.971      1.395029   \n",
       "basePay    1000.0    NaN                  NaN  NaN  94472.653  25337.493272   \n",
       "bonus      1000.0    NaN                  NaN  NaN   6467.161   2004.377365   \n",
       "\n",
       "               min       25%      50%       75%       max  \n",
       "jobTitle       NaN       NaN      NaN       NaN       NaN  \n",
       "gender         NaN       NaN      NaN       NaN       NaN  \n",
       "Age           18.0      29.0     41.0     54.25      65.0  \n",
       "perfEval       1.0       2.0      3.0       4.0       5.0  \n",
       "edu            NaN       NaN      NaN       NaN       NaN  \n",
       "dept           NaN       NaN      NaN       NaN       NaN  \n",
       "seniority      1.0       2.0      3.0       4.0       5.0  \n",
       "basePay    34208.0  76850.25  93327.5  111558.0  179726.0  \n",
       "bonus       1703.0    4849.5   6507.0    8026.0   11293.0  "
      ]
     },
     "execution_count": 325,
     "metadata": {},
     "output_type": "execute_result"
    }
   ],
   "source": [
    "df.describe(include = \"all\").T"
   ]
  },
  {
   "cell_type": "markdown",
   "id": "ceb6b78f",
   "metadata": {},
   "source": [
    "### Correlation - Quantitative variables only\n",
    "it measure the relationship between two quantitative variables. Any value above 0.7 is high. 0.9 is very high <br>\n",
    "below 0.3 is low <br>\n",
    "0.3 – 0.6 – moderate correlation <br>\n",
    "0.6-0.8 i.e. 60- 80% : high <br>\n",
    "0.9/ 90% and above : very high correlation <br>\n",
    "\n",
    "+1 = high positive correlation – as one increases the other increases  <br>\n",
    "-1 = high negative correlation – as one increases the other decreases <br>\n",
    "df.corr() – this will bring out all the correlation of all quantitative variables <br>"
   ]
  },
  {
   "cell_type": "code",
   "execution_count": 311,
   "id": "12d32863",
   "metadata": {},
   "outputs": [
    {
     "data": {
      "text/html": [
       "<div>\n",
       "<style scoped>\n",
       "    .dataframe tbody tr th:only-of-type {\n",
       "        vertical-align: middle;\n",
       "    }\n",
       "\n",
       "    .dataframe tbody tr th {\n",
       "        vertical-align: top;\n",
       "    }\n",
       "\n",
       "    .dataframe thead th {\n",
       "        text-align: right;\n",
       "    }\n",
       "</style>\n",
       "<table border=\"1\" class=\"dataframe\">\n",
       "  <thead>\n",
       "    <tr style=\"text-align: right;\">\n",
       "      <th></th>\n",
       "      <th>age</th>\n",
       "      <th>perfEval</th>\n",
       "      <th>seniority</th>\n",
       "      <th>basePay</th>\n",
       "      <th>bonus</th>\n",
       "    </tr>\n",
       "  </thead>\n",
       "  <tbody>\n",
       "    <tr>\n",
       "      <th>age</th>\n",
       "      <td>1.000000</td>\n",
       "      <td>-0.056875</td>\n",
       "      <td>-0.021414</td>\n",
       "      <td>0.562681</td>\n",
       "      <td>-0.414337</td>\n",
       "    </tr>\n",
       "    <tr>\n",
       "      <th>perfEval</th>\n",
       "      <td>-0.056875</td>\n",
       "      <td>1.000000</td>\n",
       "      <td>-0.021127</td>\n",
       "      <td>-0.053622</td>\n",
       "      <td>0.855500</td>\n",
       "    </tr>\n",
       "    <tr>\n",
       "      <th>seniority</th>\n",
       "      <td>-0.021414</td>\n",
       "      <td>-0.021127</td>\n",
       "      <td>1.000000</td>\n",
       "      <td>0.511096</td>\n",
       "      <td>0.194982</td>\n",
       "    </tr>\n",
       "    <tr>\n",
       "      <th>basePay</th>\n",
       "      <td>0.562681</td>\n",
       "      <td>-0.053622</td>\n",
       "      <td>0.511096</td>\n",
       "      <td>1.000000</td>\n",
       "      <td>-0.129481</td>\n",
       "    </tr>\n",
       "    <tr>\n",
       "      <th>bonus</th>\n",
       "      <td>-0.414337</td>\n",
       "      <td>0.855500</td>\n",
       "      <td>0.194982</td>\n",
       "      <td>-0.129481</td>\n",
       "      <td>1.000000</td>\n",
       "    </tr>\n",
       "  </tbody>\n",
       "</table>\n",
       "</div>"
      ],
      "text/plain": [
       "                age  perfEval  seniority   basePay     bonus\n",
       "age        1.000000 -0.056875  -0.021414  0.562681 -0.414337\n",
       "perfEval  -0.056875  1.000000  -0.021127 -0.053622  0.855500\n",
       "seniority -0.021414 -0.021127   1.000000  0.511096  0.194982\n",
       "basePay    0.562681 -0.053622   0.511096  1.000000 -0.129481\n",
       "bonus     -0.414337  0.855500   0.194982 -0.129481  1.000000"
      ]
     },
     "execution_count": 311,
     "metadata": {},
     "output_type": "execute_result"
    }
   ],
   "source": [
    "df.corr() "
   ]
  },
  {
   "cell_type": "markdown",
   "id": "14c689e4",
   "metadata": {},
   "source": [
    "-\tThere is a corr btw Age and Basepay meaning as an employee gets older, their salary increases\n",
    "-\tThere is a corr (-ve) btw Age and bonus meaning as an employee gets older, the bonus he receives reduces\n",
    "-\tAs seniority level increase, salary increases. however the bonus received is not dependent on the seniority level as seen from the 0.19corr \n",
    "-\tBonus is highly dependent on the performance evaluation- with a corr of 0.85"
   ]
  },
  {
   "cell_type": "markdown",
   "id": "c695d51f",
   "metadata": {},
   "source": [
    "### Filtering daaframe to numeric and categorical and manually\n",
    "numeric  - df.select_dtypes(include = “number”) <br>\n",
    "categorical -df.select_dtypes(include = “object”) or exclude = “number” <br>\n",
    "manually – df[[”Age”,”Gender”,”Salary”]].head() <br>\n"
   ]
  },
  {
   "cell_type": "code",
   "execution_count": 314,
   "id": "5570afb8",
   "metadata": {},
   "outputs": [
    {
     "data": {
      "text/html": [
       "<div>\n",
       "<style scoped>\n",
       "    .dataframe tbody tr th:only-of-type {\n",
       "        vertical-align: middle;\n",
       "    }\n",
       "\n",
       "    .dataframe tbody tr th {\n",
       "        vertical-align: top;\n",
       "    }\n",
       "\n",
       "    .dataframe thead th {\n",
       "        text-align: right;\n",
       "    }\n",
       "</style>\n",
       "<table border=\"1\" class=\"dataframe\">\n",
       "  <thead>\n",
       "    <tr style=\"text-align: right;\">\n",
       "      <th></th>\n",
       "      <th>age</th>\n",
       "      <th>perfEval</th>\n",
       "      <th>seniority</th>\n",
       "      <th>basePay</th>\n",
       "      <th>bonus</th>\n",
       "    </tr>\n",
       "  </thead>\n",
       "  <tbody>\n",
       "    <tr>\n",
       "      <th>0</th>\n",
       "      <td>18</td>\n",
       "      <td>5</td>\n",
       "      <td>2</td>\n",
       "      <td>42363</td>\n",
       "      <td>9938</td>\n",
       "    </tr>\n",
       "    <tr>\n",
       "      <th>1</th>\n",
       "      <td>21</td>\n",
       "      <td>5</td>\n",
       "      <td>5</td>\n",
       "      <td>108476</td>\n",
       "      <td>11128</td>\n",
       "    </tr>\n",
       "    <tr>\n",
       "      <th>2</th>\n",
       "      <td>19</td>\n",
       "      <td>4</td>\n",
       "      <td>5</td>\n",
       "      <td>90208</td>\n",
       "      <td>9268</td>\n",
       "    </tr>\n",
       "    <tr>\n",
       "      <th>3</th>\n",
       "      <td>20</td>\n",
       "      <td>5</td>\n",
       "      <td>4</td>\n",
       "      <td>108080</td>\n",
       "      <td>10154</td>\n",
       "    </tr>\n",
       "    <tr>\n",
       "      <th>4</th>\n",
       "      <td>26</td>\n",
       "      <td>5</td>\n",
       "      <td>5</td>\n",
       "      <td>99464</td>\n",
       "      <td>9319</td>\n",
       "    </tr>\n",
       "  </tbody>\n",
       "</table>\n",
       "</div>"
      ],
      "text/plain": [
       "   age  perfEval  seniority  basePay  bonus\n",
       "0   18         5          2    42363   9938\n",
       "1   21         5          5   108476  11128\n",
       "2   19         4          5    90208   9268\n",
       "3   20         5          4   108080  10154\n",
       "4   26         5          5    99464   9319"
      ]
     },
     "execution_count": 314,
     "metadata": {},
     "output_type": "execute_result"
    }
   ],
   "source": [
    "df.select_dtypes(include = \"number\").head()"
   ]
  },
  {
   "cell_type": "code",
   "execution_count": 315,
   "id": "8648f7e6",
   "metadata": {},
   "outputs": [
    {
     "data": {
      "text/html": [
       "<div>\n",
       "<style scoped>\n",
       "    .dataframe tbody tr th:only-of-type {\n",
       "        vertical-align: middle;\n",
       "    }\n",
       "\n",
       "    .dataframe tbody tr th {\n",
       "        vertical-align: top;\n",
       "    }\n",
       "\n",
       "    .dataframe thead th {\n",
       "        text-align: right;\n",
       "    }\n",
       "</style>\n",
       "<table border=\"1\" class=\"dataframe\">\n",
       "  <thead>\n",
       "    <tr style=\"text-align: right;\">\n",
       "      <th></th>\n",
       "      <th>jobTitle</th>\n",
       "      <th>gender</th>\n",
       "      <th>edu</th>\n",
       "      <th>dept</th>\n",
       "    </tr>\n",
       "  </thead>\n",
       "  <tbody>\n",
       "    <tr>\n",
       "      <th>0</th>\n",
       "      <td>Graphic Designer</td>\n",
       "      <td>Female</td>\n",
       "      <td>College</td>\n",
       "      <td>Operations</td>\n",
       "    </tr>\n",
       "    <tr>\n",
       "      <th>1</th>\n",
       "      <td>Software Engineer</td>\n",
       "      <td>Male</td>\n",
       "      <td>College</td>\n",
       "      <td>Management</td>\n",
       "    </tr>\n",
       "    <tr>\n",
       "      <th>2</th>\n",
       "      <td>Warehouse Associate</td>\n",
       "      <td>Female</td>\n",
       "      <td>PhD</td>\n",
       "      <td>Administration</td>\n",
       "    </tr>\n",
       "    <tr>\n",
       "      <th>3</th>\n",
       "      <td>Software Engineer</td>\n",
       "      <td>Male</td>\n",
       "      <td>Masters</td>\n",
       "      <td>Sales</td>\n",
       "    </tr>\n",
       "    <tr>\n",
       "      <th>4</th>\n",
       "      <td>Graphic Designer</td>\n",
       "      <td>Male</td>\n",
       "      <td>Masters</td>\n",
       "      <td>Engineering</td>\n",
       "    </tr>\n",
       "  </tbody>\n",
       "</table>\n",
       "</div>"
      ],
      "text/plain": [
       "              jobTitle  gender      edu            dept\n",
       "0     Graphic Designer  Female  College      Operations\n",
       "1    Software Engineer    Male  College      Management\n",
       "2  Warehouse Associate  Female      PhD  Administration\n",
       "3    Software Engineer    Male  Masters           Sales\n",
       "4     Graphic Designer    Male  Masters     Engineering"
      ]
     },
     "execution_count": 315,
     "metadata": {},
     "output_type": "execute_result"
    }
   ],
   "source": [
    "df.select_dtypes(exclude = \"number\").head()"
   ]
  },
  {
   "cell_type": "code",
   "execution_count": 317,
   "id": "23d7b454",
   "metadata": {
    "scrolled": true
   },
   "outputs": [
    {
     "data": {
      "text/html": [
       "<div>\n",
       "<style scoped>\n",
       "    .dataframe tbody tr th:only-of-type {\n",
       "        vertical-align: middle;\n",
       "    }\n",
       "\n",
       "    .dataframe tbody tr th {\n",
       "        vertical-align: top;\n",
       "    }\n",
       "\n",
       "    .dataframe thead th {\n",
       "        text-align: right;\n",
       "    }\n",
       "</style>\n",
       "<table border=\"1\" class=\"dataframe\">\n",
       "  <thead>\n",
       "    <tr style=\"text-align: right;\">\n",
       "      <th></th>\n",
       "      <th>age</th>\n",
       "      <th>gender</th>\n",
       "      <th>basePay</th>\n",
       "    </tr>\n",
       "  </thead>\n",
       "  <tbody>\n",
       "    <tr>\n",
       "      <th>0</th>\n",
       "      <td>18</td>\n",
       "      <td>Female</td>\n",
       "      <td>42363</td>\n",
       "    </tr>\n",
       "    <tr>\n",
       "      <th>1</th>\n",
       "      <td>21</td>\n",
       "      <td>Male</td>\n",
       "      <td>108476</td>\n",
       "    </tr>\n",
       "    <tr>\n",
       "      <th>2</th>\n",
       "      <td>19</td>\n",
       "      <td>Female</td>\n",
       "      <td>90208</td>\n",
       "    </tr>\n",
       "    <tr>\n",
       "      <th>3</th>\n",
       "      <td>20</td>\n",
       "      <td>Male</td>\n",
       "      <td>108080</td>\n",
       "    </tr>\n",
       "    <tr>\n",
       "      <th>4</th>\n",
       "      <td>26</td>\n",
       "      <td>Male</td>\n",
       "      <td>99464</td>\n",
       "    </tr>\n",
       "  </tbody>\n",
       "</table>\n",
       "</div>"
      ],
      "text/plain": [
       "   age  gender  basePay\n",
       "0   18  Female    42363\n",
       "1   21    Male   108476\n",
       "2   19  Female    90208\n",
       "3   20    Male   108080\n",
       "4   26    Male    99464"
      ]
     },
     "execution_count": 317,
     "metadata": {},
     "output_type": "execute_result"
    }
   ],
   "source": [
    "df[[\"age\",\"gender\",\"basePay\"]].head()"
   ]
  },
  {
   "cell_type": "code",
   "execution_count": 341,
   "id": "6f63233a",
   "metadata": {},
   "outputs": [
    {
     "data": {
      "text/html": [
       "<div>\n",
       "<style scoped>\n",
       "    .dataframe tbody tr th:only-of-type {\n",
       "        vertical-align: middle;\n",
       "    }\n",
       "\n",
       "    .dataframe tbody tr th {\n",
       "        vertical-align: top;\n",
       "    }\n",
       "\n",
       "    .dataframe thead th {\n",
       "        text-align: right;\n",
       "    }\n",
       "</style>\n",
       "<table border=\"1\" class=\"dataframe\">\n",
       "  <thead>\n",
       "    <tr style=\"text-align: right;\">\n",
       "      <th></th>\n",
       "      <th>Age</th>\n",
       "      <th>gender</th>\n",
       "      <th>basePay</th>\n",
       "    </tr>\n",
       "  </thead>\n",
       "  <tbody>\n",
       "    <tr>\n",
       "      <th>995</th>\n",
       "      <td>61</td>\n",
       "      <td>Female</td>\n",
       "      <td>62644</td>\n",
       "    </tr>\n",
       "    <tr>\n",
       "      <th>996</th>\n",
       "      <td>57</td>\n",
       "      <td>Male</td>\n",
       "      <td>108977</td>\n",
       "    </tr>\n",
       "    <tr>\n",
       "      <th>997</th>\n",
       "      <td>48</td>\n",
       "      <td>Male</td>\n",
       "      <td>92347</td>\n",
       "    </tr>\n",
       "    <tr>\n",
       "      <th>998</th>\n",
       "      <td>65</td>\n",
       "      <td>Male</td>\n",
       "      <td>97376</td>\n",
       "    </tr>\n",
       "    <tr>\n",
       "      <th>999</th>\n",
       "      <td>60</td>\n",
       "      <td>Male</td>\n",
       "      <td>123108</td>\n",
       "    </tr>\n",
       "  </tbody>\n",
       "</table>\n",
       "</div>"
      ],
      "text/plain": [
       "     Age  gender  basePay\n",
       "995   61  Female    62644\n",
       "996   57    Male   108977\n",
       "997   48    Male    92347\n",
       "998   65    Male    97376\n",
       "999   60    Male   123108"
      ]
     },
     "execution_count": 341,
     "metadata": {},
     "output_type": "execute_result"
    }
   ],
   "source": [
    "# We can use the index to select the last 5\n",
    "df[[\"Age\",\"gender\",\"basePay\"]][-5:]"
   ]
  },
  {
   "cell_type": "markdown",
   "id": "390d5d3a",
   "metadata": {},
   "source": [
    "#### Renaming a column\n",
    "there is a dictionary inside the reaname method containing a key and value representing the old and new name"
   ]
  },
  {
   "cell_type": "code",
   "execution_count": 377,
   "id": "27b2e861",
   "metadata": {},
   "outputs": [
    {
     "data": {
      "text/html": [
       "<div>\n",
       "<style scoped>\n",
       "    .dataframe tbody tr th:only-of-type {\n",
       "        vertical-align: middle;\n",
       "    }\n",
       "\n",
       "    .dataframe tbody tr th {\n",
       "        vertical-align: top;\n",
       "    }\n",
       "\n",
       "    .dataframe thead th {\n",
       "        text-align: right;\n",
       "    }\n",
       "</style>\n",
       "<table border=\"1\" class=\"dataframe\">\n",
       "  <thead>\n",
       "    <tr style=\"text-align: right;\">\n",
       "      <th></th>\n",
       "      <th>jobTitle</th>\n",
       "      <th>gender</th>\n",
       "      <th>Age</th>\n",
       "      <th>perfEval</th>\n",
       "      <th>edu</th>\n",
       "      <th>dept</th>\n",
       "      <th>seniority</th>\n",
       "      <th>basePay</th>\n",
       "      <th>bonus</th>\n",
       "    </tr>\n",
       "  </thead>\n",
       "  <tbody>\n",
       "    <tr>\n",
       "      <th>0</th>\n",
       "      <td>Graphic Designer</td>\n",
       "      <td>Female</td>\n",
       "      <td>18</td>\n",
       "      <td>5</td>\n",
       "      <td>College</td>\n",
       "      <td>Operations</td>\n",
       "      <td>2</td>\n",
       "      <td>42363</td>\n",
       "      <td>9938</td>\n",
       "    </tr>\n",
       "    <tr>\n",
       "      <th>1</th>\n",
       "      <td>Software Engineer</td>\n",
       "      <td>Male</td>\n",
       "      <td>21</td>\n",
       "      <td>5</td>\n",
       "      <td>College</td>\n",
       "      <td>Management</td>\n",
       "      <td>5</td>\n",
       "      <td>108476</td>\n",
       "      <td>11128</td>\n",
       "    </tr>\n",
       "    <tr>\n",
       "      <th>2</th>\n",
       "      <td>Warehouse Associate</td>\n",
       "      <td>Female</td>\n",
       "      <td>19</td>\n",
       "      <td>4</td>\n",
       "      <td>PhD</td>\n",
       "      <td>Administration</td>\n",
       "      <td>5</td>\n",
       "      <td>90208</td>\n",
       "      <td>9268</td>\n",
       "    </tr>\n",
       "    <tr>\n",
       "      <th>3</th>\n",
       "      <td>Software Engineer</td>\n",
       "      <td>Male</td>\n",
       "      <td>20</td>\n",
       "      <td>5</td>\n",
       "      <td>Masters</td>\n",
       "      <td>Sales</td>\n",
       "      <td>4</td>\n",
       "      <td>108080</td>\n",
       "      <td>10154</td>\n",
       "    </tr>\n",
       "    <tr>\n",
       "      <th>4</th>\n",
       "      <td>Graphic Designer</td>\n",
       "      <td>Male</td>\n",
       "      <td>26</td>\n",
       "      <td>5</td>\n",
       "      <td>Masters</td>\n",
       "      <td>Engineering</td>\n",
       "      <td>5</td>\n",
       "      <td>99464</td>\n",
       "      <td>9319</td>\n",
       "    </tr>\n",
       "  </tbody>\n",
       "</table>\n",
       "</div>"
      ],
      "text/plain": [
       "              jobTitle  gender  Age  perfEval      edu            dept  \\\n",
       "0     Graphic Designer  Female   18         5  College      Operations   \n",
       "1    Software Engineer    Male   21         5  College      Management   \n",
       "2  Warehouse Associate  Female   19         4      PhD  Administration   \n",
       "3    Software Engineer    Male   20         5  Masters           Sales   \n",
       "4     Graphic Designer    Male   26         5  Masters     Engineering   \n",
       "\n",
       "   seniority  basePay  bonus  \n",
       "0          2    42363   9938  \n",
       "1          5   108476  11128  \n",
       "2          5    90208   9268  \n",
       "3          4   108080  10154  \n",
       "4          5    99464   9319  "
      ]
     },
     "execution_count": 377,
     "metadata": {},
     "output_type": "execute_result"
    }
   ],
   "source": [
    "df.rename(columns =  {\"age\": \"Age\"}, inplace = True)\n",
    "df.head()"
   ]
  },
  {
   "cell_type": "markdown",
   "id": "ff3aed61",
   "metadata": {},
   "source": [
    "### DATA MANIPULATION"
   ]
  },
  {
   "cell_type": "markdown",
   "id": "286dae9d",
   "metadata": {},
   "source": [
    "### Data Subsetting - loc & iloc : extracting selected row and columns\n",
    "the loc and iloc are used to subset the row entries. they are not really methods hence they use the[] sign <br>\n",
    "the row and column are seperated by a comma [row , column]  e.g.[1, 2:3], [1, :]  <br>\n",
    "**loc**: subsetbased on the row label: has 2 argument i.e. the pandas row label and the columns of choice. this works with the index label given by pandas <br>\n",
    "**iloc**: Subsets based on the row index or number- this works with python indices i.e -1, -2, :, 1:, etc"
   ]
  },
  {
   "cell_type": "code",
   "execution_count": 343,
   "id": "c715f305",
   "metadata": {},
   "outputs": [
    {
     "data": {
      "text/plain": [
       "Age            18\n",
       "edu       College\n",
       "gender     Female\n",
       "Name: 0, dtype: object"
      ]
     },
     "execution_count": 343,
     "metadata": {},
     "output_type": "execute_result"
    }
   ],
   "source": [
    "df.loc[0, ['Age', \"edu\", \"gender\"]] # for first row"
   ]
  },
  {
   "cell_type": "code",
   "execution_count": 348,
   "id": "304991c5",
   "metadata": {},
   "outputs": [
    {
     "data": {
      "text/html": [
       "<div>\n",
       "<style scoped>\n",
       "    .dataframe tbody tr th:only-of-type {\n",
       "        vertical-align: middle;\n",
       "    }\n",
       "\n",
       "    .dataframe tbody tr th {\n",
       "        vertical-align: top;\n",
       "    }\n",
       "\n",
       "    .dataframe thead th {\n",
       "        text-align: right;\n",
       "    }\n",
       "</style>\n",
       "<table border=\"1\" class=\"dataframe\">\n",
       "  <thead>\n",
       "    <tr style=\"text-align: right;\">\n",
       "      <th></th>\n",
       "      <th>Age</th>\n",
       "      <th>edu</th>\n",
       "      <th>gender</th>\n",
       "    </tr>\n",
       "  </thead>\n",
       "  <tbody>\n",
       "    <tr>\n",
       "      <th>0</th>\n",
       "      <td>18</td>\n",
       "      <td>College</td>\n",
       "      <td>Female</td>\n",
       "    </tr>\n",
       "    <tr>\n",
       "      <th>1</th>\n",
       "      <td>21</td>\n",
       "      <td>College</td>\n",
       "      <td>Male</td>\n",
       "    </tr>\n",
       "    <tr>\n",
       "      <th>2</th>\n",
       "      <td>19</td>\n",
       "      <td>PhD</td>\n",
       "      <td>Female</td>\n",
       "    </tr>\n",
       "    <tr>\n",
       "      <th>3</th>\n",
       "      <td>20</td>\n",
       "      <td>Masters</td>\n",
       "      <td>Male</td>\n",
       "    </tr>\n",
       "  </tbody>\n",
       "</table>\n",
       "</div>"
      ],
      "text/plain": [
       "   Age      edu  gender\n",
       "0   18  College  Female\n",
       "1   21  College    Male\n",
       "2   19      PhD  Female\n",
       "3   20  Masters    Male"
      ]
     },
     "execution_count": 348,
     "metadata": {},
     "output_type": "execute_result"
    }
   ],
   "source": [
    "df.loc[:3, ['Age', \"edu\", \"gender\"]] # for first 4 row"
   ]
  },
  {
   "cell_type": "code",
   "execution_count": 351,
   "id": "4ecf3ad5",
   "metadata": {},
   "outputs": [
    {
     "data": {
      "text/html": [
       "<div>\n",
       "<style scoped>\n",
       "    .dataframe tbody tr th:only-of-type {\n",
       "        vertical-align: middle;\n",
       "    }\n",
       "\n",
       "    .dataframe tbody tr th {\n",
       "        vertical-align: top;\n",
       "    }\n",
       "\n",
       "    .dataframe thead th {\n",
       "        text-align: right;\n",
       "    }\n",
       "</style>\n",
       "<table border=\"1\" class=\"dataframe\">\n",
       "  <thead>\n",
       "    <tr style=\"text-align: right;\">\n",
       "      <th></th>\n",
       "      <th>Age</th>\n",
       "      <th>edu</th>\n",
       "      <th>gender</th>\n",
       "    </tr>\n",
       "  </thead>\n",
       "  <tbody>\n",
       "    <tr>\n",
       "      <th>2</th>\n",
       "      <td>19</td>\n",
       "      <td>PhD</td>\n",
       "      <td>Female</td>\n",
       "    </tr>\n",
       "    <tr>\n",
       "      <th>111</th>\n",
       "      <td>26</td>\n",
       "      <td>College</td>\n",
       "      <td>Male</td>\n",
       "    </tr>\n",
       "    <tr>\n",
       "      <th>543</th>\n",
       "      <td>25</td>\n",
       "      <td>College</td>\n",
       "      <td>Male</td>\n",
       "    </tr>\n",
       "  </tbody>\n",
       "</table>\n",
       "</div>"
      ],
      "text/plain": [
       "     Age      edu  gender\n",
       "2     19      PhD  Female\n",
       "111   26  College    Male\n",
       "543   25  College    Male"
      ]
     },
     "execution_count": 351,
     "metadata": {},
     "output_type": "execute_result"
    }
   ],
   "source": [
    "df.loc[[2,111, 543], ['Age', \"edu\", \"gender\"]] # for selected rows"
   ]
  },
  {
   "cell_type": "code",
   "execution_count": 355,
   "id": "6c61b38b",
   "metadata": {},
   "outputs": [
    {
     "data": {
      "text/plain": [
       "Age         60\n",
       "edu        PhD\n",
       "gender    Male\n",
       "Name: 999, dtype: object"
      ]
     },
     "execution_count": 355,
     "metadata": {},
     "output_type": "execute_result"
    }
   ],
   "source": [
    "df.loc[999, ['Age', \"edu\", \"gender\"]] # for last row"
   ]
  },
  {
   "cell_type": "code",
   "execution_count": 358,
   "id": "98bdfd95",
   "metadata": {},
   "outputs": [
    {
     "data": {
      "text/plain": [
       "gender      Male\n",
       "Age           60\n",
       "perfEval       1\n",
       "Name: 999, dtype: object"
      ]
     },
     "execution_count": 358,
     "metadata": {},
     "output_type": "execute_result"
    }
   ],
   "source": [
    "df.iloc[-1, [1,2,3]] # for last row"
   ]
  },
  {
   "cell_type": "code",
   "execution_count": 360,
   "id": "6eacabaa",
   "metadata": {},
   "outputs": [
    {
     "data": {
      "text/plain": [
       "jobTitle     Graphic Designer\n",
       "gender                 Female\n",
       "Age                        18\n",
       "perfEval                    5\n",
       "edu                   College\n",
       "dept               Operations\n",
       "seniority                   2\n",
       "basePay                 42363\n",
       "bonus                    9938\n",
       "Name: 0, dtype: object"
      ]
     },
     "execution_count": 360,
     "metadata": {},
     "output_type": "execute_result"
    }
   ],
   "source": [
    "df.iloc[0, :] #for first row and all columns"
   ]
  },
  {
   "cell_type": "code",
   "execution_count": 361,
   "id": "83e8f31a",
   "metadata": {},
   "outputs": [
    {
     "data": {
      "text/html": [
       "<div>\n",
       "<style scoped>\n",
       "    .dataframe tbody tr th:only-of-type {\n",
       "        vertical-align: middle;\n",
       "    }\n",
       "\n",
       "    .dataframe tbody tr th {\n",
       "        vertical-align: top;\n",
       "    }\n",
       "\n",
       "    .dataframe thead th {\n",
       "        text-align: right;\n",
       "    }\n",
       "</style>\n",
       "<table border=\"1\" class=\"dataframe\">\n",
       "  <thead>\n",
       "    <tr style=\"text-align: right;\">\n",
       "      <th></th>\n",
       "      <th>Age</th>\n",
       "      <th>edu</th>\n",
       "      <th>dept</th>\n",
       "    </tr>\n",
       "  </thead>\n",
       "  <tbody>\n",
       "    <tr>\n",
       "      <th>0</th>\n",
       "      <td>18</td>\n",
       "      <td>College</td>\n",
       "      <td>Operations</td>\n",
       "    </tr>\n",
       "    <tr>\n",
       "      <th>5</th>\n",
       "      <td>20</td>\n",
       "      <td>PhD</td>\n",
       "      <td>Operations</td>\n",
       "    </tr>\n",
       "    <tr>\n",
       "      <th>7</th>\n",
       "      <td>18</td>\n",
       "      <td>PhD</td>\n",
       "      <td>Engineering</td>\n",
       "    </tr>\n",
       "  </tbody>\n",
       "</table>\n",
       "</div>"
      ],
      "text/plain": [
       "   Age      edu         dept\n",
       "0   18  College   Operations\n",
       "5   20      PhD   Operations\n",
       "7   18      PhD  Engineering"
      ]
     },
     "execution_count": 361,
     "metadata": {},
     "output_type": "execute_result"
    }
   ],
   "source": [
    "df.iloc[[0,5,7], [2,4,5]] #for selected row and selected columns"
   ]
  },
  {
   "cell_type": "markdown",
   "id": "b14a7146",
   "metadata": {},
   "source": [
    "since it is difficult to assess the indices of columns in iloc, it is recommendedto use loc by passing the name of the columns"
   ]
  },
  {
   "cell_type": "markdown",
   "id": "2fa167ce",
   "metadata": {},
   "source": [
    "### Data Filtering - extracting all datasets using selected values/entries of a column as basis\n",
    "subsetting is different for filtering <br>\n",
    "- subsetting is selecting filtering selected rows and columns of a dataset e.g. to view the columns of Gender <br>\n",
    "- filtering is viewing the complete dataset of a particular entry of a column in the data e.g viewing the dataset of everyone with age 10 or dataset of all Software Engineers"
   ]
  },
  {
   "cell_type": "code",
   "execution_count": 364,
   "id": "c6f175b7",
   "metadata": {},
   "outputs": [
    {
     "data": {
      "text/html": [
       "<div>\n",
       "<style scoped>\n",
       "    .dataframe tbody tr th:only-of-type {\n",
       "        vertical-align: middle;\n",
       "    }\n",
       "\n",
       "    .dataframe tbody tr th {\n",
       "        vertical-align: top;\n",
       "    }\n",
       "\n",
       "    .dataframe thead th {\n",
       "        text-align: right;\n",
       "    }\n",
       "</style>\n",
       "<table border=\"1\" class=\"dataframe\">\n",
       "  <thead>\n",
       "    <tr style=\"text-align: right;\">\n",
       "      <th></th>\n",
       "      <th>jobTitle</th>\n",
       "      <th>gender</th>\n",
       "      <th>Age</th>\n",
       "      <th>perfEval</th>\n",
       "      <th>edu</th>\n",
       "      <th>dept</th>\n",
       "      <th>seniority</th>\n",
       "      <th>basePay</th>\n",
       "      <th>bonus</th>\n",
       "    </tr>\n",
       "  </thead>\n",
       "  <tbody>\n",
       "    <tr>\n",
       "      <th>1</th>\n",
       "      <td>Software Engineer</td>\n",
       "      <td>Male</td>\n",
       "      <td>21</td>\n",
       "      <td>5</td>\n",
       "      <td>College</td>\n",
       "      <td>Management</td>\n",
       "      <td>5</td>\n",
       "      <td>108476</td>\n",
       "      <td>11128</td>\n",
       "    </tr>\n",
       "    <tr>\n",
       "      <th>3</th>\n",
       "      <td>Software Engineer</td>\n",
       "      <td>Male</td>\n",
       "      <td>20</td>\n",
       "      <td>5</td>\n",
       "      <td>Masters</td>\n",
       "      <td>Sales</td>\n",
       "      <td>4</td>\n",
       "      <td>108080</td>\n",
       "      <td>10154</td>\n",
       "    </tr>\n",
       "    <tr>\n",
       "      <th>7</th>\n",
       "      <td>Software Engineer</td>\n",
       "      <td>Male</td>\n",
       "      <td>18</td>\n",
       "      <td>4</td>\n",
       "      <td>PhD</td>\n",
       "      <td>Engineering</td>\n",
       "      <td>5</td>\n",
       "      <td>97523</td>\n",
       "      <td>10240</td>\n",
       "    </tr>\n",
       "    <tr>\n",
       "      <th>24</th>\n",
       "      <td>Software Engineer</td>\n",
       "      <td>Male</td>\n",
       "      <td>21</td>\n",
       "      <td>4</td>\n",
       "      <td>PhD</td>\n",
       "      <td>Engineering</td>\n",
       "      <td>5</td>\n",
       "      <td>132823</td>\n",
       "      <td>9625</td>\n",
       "    </tr>\n",
       "    <tr>\n",
       "      <th>26</th>\n",
       "      <td>Software Engineer</td>\n",
       "      <td>Male</td>\n",
       "      <td>19</td>\n",
       "      <td>5</td>\n",
       "      <td>Masters</td>\n",
       "      <td>Administration</td>\n",
       "      <td>4</td>\n",
       "      <td>100305</td>\n",
       "      <td>9618</td>\n",
       "    </tr>\n",
       "    <tr>\n",
       "      <th>...</th>\n",
       "      <td>...</td>\n",
       "      <td>...</td>\n",
       "      <td>...</td>\n",
       "      <td>...</td>\n",
       "      <td>...</td>\n",
       "      <td>...</td>\n",
       "      <td>...</td>\n",
       "      <td>...</td>\n",
       "      <td>...</td>\n",
       "    </tr>\n",
       "    <tr>\n",
       "      <th>948</th>\n",
       "      <td>Software Engineer</td>\n",
       "      <td>Male</td>\n",
       "      <td>36</td>\n",
       "      <td>1</td>\n",
       "      <td>Masters</td>\n",
       "      <td>Operations</td>\n",
       "      <td>1</td>\n",
       "      <td>93855</td>\n",
       "      <td>4099</td>\n",
       "    </tr>\n",
       "    <tr>\n",
       "      <th>968</th>\n",
       "      <td>Software Engineer</td>\n",
       "      <td>Male</td>\n",
       "      <td>62</td>\n",
       "      <td>1</td>\n",
       "      <td>High School</td>\n",
       "      <td>Sales</td>\n",
       "      <td>3</td>\n",
       "      <td>132815</td>\n",
       "      <td>3367</td>\n",
       "    </tr>\n",
       "    <tr>\n",
       "      <th>971</th>\n",
       "      <td>Software Engineer</td>\n",
       "      <td>Male</td>\n",
       "      <td>60</td>\n",
       "      <td>1</td>\n",
       "      <td>High School</td>\n",
       "      <td>Administration</td>\n",
       "      <td>3</td>\n",
       "      <td>106045</td>\n",
       "      <td>3079</td>\n",
       "    </tr>\n",
       "    <tr>\n",
       "      <th>973</th>\n",
       "      <td>Software Engineer</td>\n",
       "      <td>Male</td>\n",
       "      <td>64</td>\n",
       "      <td>1</td>\n",
       "      <td>Masters</td>\n",
       "      <td>Sales</td>\n",
       "      <td>1</td>\n",
       "      <td>109606</td>\n",
       "      <td>2193</td>\n",
       "    </tr>\n",
       "    <tr>\n",
       "      <th>982</th>\n",
       "      <td>Software Engineer</td>\n",
       "      <td>Male</td>\n",
       "      <td>62</td>\n",
       "      <td>1</td>\n",
       "      <td>High School</td>\n",
       "      <td>Management</td>\n",
       "      <td>3</td>\n",
       "      <td>119069</td>\n",
       "      <td>2788</td>\n",
       "    </tr>\n",
       "  </tbody>\n",
       "</table>\n",
       "<p>109 rows × 9 columns</p>\n",
       "</div>"
      ],
      "text/plain": [
       "              jobTitle gender  Age  perfEval          edu            dept  \\\n",
       "1    Software Engineer   Male   21         5      College      Management   \n",
       "3    Software Engineer   Male   20         5      Masters           Sales   \n",
       "7    Software Engineer   Male   18         4          PhD     Engineering   \n",
       "24   Software Engineer   Male   21         4          PhD     Engineering   \n",
       "26   Software Engineer   Male   19         5      Masters  Administration   \n",
       "..                 ...    ...  ...       ...          ...             ...   \n",
       "948  Software Engineer   Male   36         1      Masters      Operations   \n",
       "968  Software Engineer   Male   62         1  High School           Sales   \n",
       "971  Software Engineer   Male   60         1  High School  Administration   \n",
       "973  Software Engineer   Male   64         1      Masters           Sales   \n",
       "982  Software Engineer   Male   62         1  High School      Management   \n",
       "\n",
       "     seniority  basePay  bonus  \n",
       "1            5   108476  11128  \n",
       "3            4   108080  10154  \n",
       "7            5    97523  10240  \n",
       "24           5   132823   9625  \n",
       "26           4   100305   9618  \n",
       "..         ...      ...    ...  \n",
       "948          1    93855   4099  \n",
       "968          3   132815   3367  \n",
       "971          3   106045   3079  \n",
       "973          1   109606   2193  \n",
       "982          3   119069   2788  \n",
       "\n",
       "[109 rows x 9 columns]"
      ]
     },
     "execution_count": 364,
     "metadata": {},
     "output_type": "execute_result"
    }
   ],
   "source": [
    "#let's get the dataset of all software engineers\n",
    "df[df[\"jobTitle\"]== \"Software Engineer\"]"
   ]
  },
  {
   "cell_type": "code",
   "execution_count": 370,
   "id": "c2060c56",
   "metadata": {},
   "outputs": [
    {
     "data": {
      "text/plain": [
       "jobTitle    Financial Analyst\n",
       "Name: 999, dtype: object"
      ]
     },
     "execution_count": 370,
     "metadata": {},
     "output_type": "execute_result"
    }
   ],
   "source": [
    "df.loc[999, [\"jobTitle\"]]"
   ]
  },
  {
   "cell_type": "code",
   "execution_count": 372,
   "id": "bfcc5784",
   "metadata": {},
   "outputs": [
    {
     "data": {
      "text/html": [
       "<div>\n",
       "<style scoped>\n",
       "    .dataframe tbody tr th:only-of-type {\n",
       "        vertical-align: middle;\n",
       "    }\n",
       "\n",
       "    .dataframe tbody tr th {\n",
       "        vertical-align: top;\n",
       "    }\n",
       "\n",
       "    .dataframe thead th {\n",
       "        text-align: right;\n",
       "    }\n",
       "</style>\n",
       "<table border=\"1\" class=\"dataframe\">\n",
       "  <thead>\n",
       "    <tr style=\"text-align: right;\">\n",
       "      <th></th>\n",
       "      <th>jobTitle</th>\n",
       "      <th>gender</th>\n",
       "      <th>Age</th>\n",
       "      <th>perfEval</th>\n",
       "      <th>edu</th>\n",
       "      <th>dept</th>\n",
       "      <th>seniority</th>\n",
       "      <th>basePay</th>\n",
       "      <th>bonus</th>\n",
       "    </tr>\n",
       "  </thead>\n",
       "  <tbody>\n",
       "    <tr>\n",
       "      <th>357</th>\n",
       "      <td>Manager</td>\n",
       "      <td>Female</td>\n",
       "      <td>60</td>\n",
       "      <td>4</td>\n",
       "      <td>PhD</td>\n",
       "      <td>Management</td>\n",
       "      <td>3</td>\n",
       "      <td>160614</td>\n",
       "      <td>8354</td>\n",
       "    </tr>\n",
       "    <tr>\n",
       "      <th>399</th>\n",
       "      <td>Financial Analyst</td>\n",
       "      <td>Male</td>\n",
       "      <td>60</td>\n",
       "      <td>5</td>\n",
       "      <td>High School</td>\n",
       "      <td>Engineering</td>\n",
       "      <td>4</td>\n",
       "      <td>121728</td>\n",
       "      <td>7932</td>\n",
       "    </tr>\n",
       "    <tr>\n",
       "      <th>429</th>\n",
       "      <td>Software Engineer</td>\n",
       "      <td>Male</td>\n",
       "      <td>60</td>\n",
       "      <td>4</td>\n",
       "      <td>Masters</td>\n",
       "      <td>Sales</td>\n",
       "      <td>5</td>\n",
       "      <td>155676</td>\n",
       "      <td>6586</td>\n",
       "    </tr>\n",
       "    <tr>\n",
       "      <th>446</th>\n",
       "      <td>Software Engineer</td>\n",
       "      <td>Male</td>\n",
       "      <td>60</td>\n",
       "      <td>3</td>\n",
       "      <td>PhD</td>\n",
       "      <td>Management</td>\n",
       "      <td>5</td>\n",
       "      <td>145632</td>\n",
       "      <td>6439</td>\n",
       "    </tr>\n",
       "    <tr>\n",
       "      <th>512</th>\n",
       "      <td>Manager</td>\n",
       "      <td>Male</td>\n",
       "      <td>60</td>\n",
       "      <td>4</td>\n",
       "      <td>College</td>\n",
       "      <td>Sales</td>\n",
       "      <td>2</td>\n",
       "      <td>148178</td>\n",
       "      <td>6777</td>\n",
       "    </tr>\n",
       "  </tbody>\n",
       "</table>\n",
       "</div>"
      ],
      "text/plain": [
       "              jobTitle  gender  Age  perfEval          edu         dept  \\\n",
       "357            Manager  Female   60         4          PhD   Management   \n",
       "399  Financial Analyst    Male   60         5  High School  Engineering   \n",
       "429  Software Engineer    Male   60         4      Masters        Sales   \n",
       "446  Software Engineer    Male   60         3          PhD   Management   \n",
       "512            Manager    Male   60         4      College        Sales   \n",
       "\n",
       "     seniority  basePay  bonus  \n",
       "357          3   160614   8354  \n",
       "399          4   121728   7932  \n",
       "429          5   155676   6586  \n",
       "446          5   145632   6439  \n",
       "512          2   148178   6777  "
      ]
     },
     "execution_count": 372,
     "metadata": {},
     "output_type": "execute_result"
    }
   ],
   "source": [
    "#let's get the dataset of all those with age 60\n",
    "df[df[\"Age\"]== 60].head()"
   ]
  },
  {
   "cell_type": "markdown",
   "id": "e07acf8c",
   "metadata": {},
   "source": [
    "#### Query Method- Data Filtering"
   ]
  },
  {
   "cell_type": "code",
   "execution_count": 375,
   "id": "e8dc9331",
   "metadata": {},
   "outputs": [
    {
     "data": {
      "text/html": [
       "<div>\n",
       "<style scoped>\n",
       "    .dataframe tbody tr th:only-of-type {\n",
       "        vertical-align: middle;\n",
       "    }\n",
       "\n",
       "    .dataframe tbody tr th {\n",
       "        vertical-align: top;\n",
       "    }\n",
       "\n",
       "    .dataframe thead th {\n",
       "        text-align: right;\n",
       "    }\n",
       "</style>\n",
       "<table border=\"1\" class=\"dataframe\">\n",
       "  <thead>\n",
       "    <tr style=\"text-align: right;\">\n",
       "      <th></th>\n",
       "      <th>jobTitle</th>\n",
       "      <th>gender</th>\n",
       "      <th>Age</th>\n",
       "      <th>perfEval</th>\n",
       "      <th>edu</th>\n",
       "      <th>dept</th>\n",
       "      <th>seniority</th>\n",
       "      <th>basePay</th>\n",
       "      <th>bonus</th>\n",
       "    </tr>\n",
       "  </thead>\n",
       "  <tbody>\n",
       "    <tr>\n",
       "      <th>1</th>\n",
       "      <td>Software Engineer</td>\n",
       "      <td>Male</td>\n",
       "      <td>21</td>\n",
       "      <td>5</td>\n",
       "      <td>College</td>\n",
       "      <td>Management</td>\n",
       "      <td>5</td>\n",
       "      <td>108476</td>\n",
       "      <td>11128</td>\n",
       "    </tr>\n",
       "    <tr>\n",
       "      <th>3</th>\n",
       "      <td>Software Engineer</td>\n",
       "      <td>Male</td>\n",
       "      <td>20</td>\n",
       "      <td>5</td>\n",
       "      <td>Masters</td>\n",
       "      <td>Sales</td>\n",
       "      <td>4</td>\n",
       "      <td>108080</td>\n",
       "      <td>10154</td>\n",
       "    </tr>\n",
       "    <tr>\n",
       "      <th>7</th>\n",
       "      <td>Software Engineer</td>\n",
       "      <td>Male</td>\n",
       "      <td>18</td>\n",
       "      <td>4</td>\n",
       "      <td>PhD</td>\n",
       "      <td>Engineering</td>\n",
       "      <td>5</td>\n",
       "      <td>97523</td>\n",
       "      <td>10240</td>\n",
       "    </tr>\n",
       "    <tr>\n",
       "      <th>24</th>\n",
       "      <td>Software Engineer</td>\n",
       "      <td>Male</td>\n",
       "      <td>21</td>\n",
       "      <td>4</td>\n",
       "      <td>PhD</td>\n",
       "      <td>Engineering</td>\n",
       "      <td>5</td>\n",
       "      <td>132823</td>\n",
       "      <td>9625</td>\n",
       "    </tr>\n",
       "    <tr>\n",
       "      <th>26</th>\n",
       "      <td>Software Engineer</td>\n",
       "      <td>Male</td>\n",
       "      <td>19</td>\n",
       "      <td>5</td>\n",
       "      <td>Masters</td>\n",
       "      <td>Administration</td>\n",
       "      <td>4</td>\n",
       "      <td>100305</td>\n",
       "      <td>9618</td>\n",
       "    </tr>\n",
       "    <tr>\n",
       "      <th>...</th>\n",
       "      <td>...</td>\n",
       "      <td>...</td>\n",
       "      <td>...</td>\n",
       "      <td>...</td>\n",
       "      <td>...</td>\n",
       "      <td>...</td>\n",
       "      <td>...</td>\n",
       "      <td>...</td>\n",
       "      <td>...</td>\n",
       "    </tr>\n",
       "    <tr>\n",
       "      <th>948</th>\n",
       "      <td>Software Engineer</td>\n",
       "      <td>Male</td>\n",
       "      <td>36</td>\n",
       "      <td>1</td>\n",
       "      <td>Masters</td>\n",
       "      <td>Operations</td>\n",
       "      <td>1</td>\n",
       "      <td>93855</td>\n",
       "      <td>4099</td>\n",
       "    </tr>\n",
       "    <tr>\n",
       "      <th>968</th>\n",
       "      <td>Software Engineer</td>\n",
       "      <td>Male</td>\n",
       "      <td>62</td>\n",
       "      <td>1</td>\n",
       "      <td>High School</td>\n",
       "      <td>Sales</td>\n",
       "      <td>3</td>\n",
       "      <td>132815</td>\n",
       "      <td>3367</td>\n",
       "    </tr>\n",
       "    <tr>\n",
       "      <th>971</th>\n",
       "      <td>Software Engineer</td>\n",
       "      <td>Male</td>\n",
       "      <td>60</td>\n",
       "      <td>1</td>\n",
       "      <td>High School</td>\n",
       "      <td>Administration</td>\n",
       "      <td>3</td>\n",
       "      <td>106045</td>\n",
       "      <td>3079</td>\n",
       "    </tr>\n",
       "    <tr>\n",
       "      <th>973</th>\n",
       "      <td>Software Engineer</td>\n",
       "      <td>Male</td>\n",
       "      <td>64</td>\n",
       "      <td>1</td>\n",
       "      <td>Masters</td>\n",
       "      <td>Sales</td>\n",
       "      <td>1</td>\n",
       "      <td>109606</td>\n",
       "      <td>2193</td>\n",
       "    </tr>\n",
       "    <tr>\n",
       "      <th>982</th>\n",
       "      <td>Software Engineer</td>\n",
       "      <td>Male</td>\n",
       "      <td>62</td>\n",
       "      <td>1</td>\n",
       "      <td>High School</td>\n",
       "      <td>Management</td>\n",
       "      <td>3</td>\n",
       "      <td>119069</td>\n",
       "      <td>2788</td>\n",
       "    </tr>\n",
       "  </tbody>\n",
       "</table>\n",
       "<p>109 rows × 9 columns</p>\n",
       "</div>"
      ],
      "text/plain": [
       "              jobTitle gender  Age  perfEval          edu            dept  \\\n",
       "1    Software Engineer   Male   21         5      College      Management   \n",
       "3    Software Engineer   Male   20         5      Masters           Sales   \n",
       "7    Software Engineer   Male   18         4          PhD     Engineering   \n",
       "24   Software Engineer   Male   21         4          PhD     Engineering   \n",
       "26   Software Engineer   Male   19         5      Masters  Administration   \n",
       "..                 ...    ...  ...       ...          ...             ...   \n",
       "948  Software Engineer   Male   36         1      Masters      Operations   \n",
       "968  Software Engineer   Male   62         1  High School           Sales   \n",
       "971  Software Engineer   Male   60         1  High School  Administration   \n",
       "973  Software Engineer   Male   64         1      Masters           Sales   \n",
       "982  Software Engineer   Male   62         1  High School      Management   \n",
       "\n",
       "     seniority  basePay  bonus  \n",
       "1            5   108476  11128  \n",
       "3            4   108080  10154  \n",
       "7            5    97523  10240  \n",
       "24           5   132823   9625  \n",
       "26           4   100305   9618  \n",
       "..         ...      ...    ...  \n",
       "948          1    93855   4099  \n",
       "968          3   132815   3367  \n",
       "971          3   106045   3079  \n",
       "973          1   109606   2193  \n",
       "982          3   119069   2788  \n",
       "\n",
       "[109 rows x 9 columns]"
      ]
     },
     "execution_count": 375,
     "metadata": {},
     "output_type": "execute_result"
    }
   ],
   "source": [
    "#let's get the dataset of all software engineers\n",
    "df.query(\"jobTitle == 'Software Engineer'\")"
   ]
  },
  {
   "cell_type": "code",
   "execution_count": 376,
   "id": "57bd1b31",
   "metadata": {},
   "outputs": [
    {
     "data": {
      "text/html": [
       "<div>\n",
       "<style scoped>\n",
       "    .dataframe tbody tr th:only-of-type {\n",
       "        vertical-align: middle;\n",
       "    }\n",
       "\n",
       "    .dataframe tbody tr th {\n",
       "        vertical-align: top;\n",
       "    }\n",
       "\n",
       "    .dataframe thead th {\n",
       "        text-align: right;\n",
       "    }\n",
       "</style>\n",
       "<table border=\"1\" class=\"dataframe\">\n",
       "  <thead>\n",
       "    <tr style=\"text-align: right;\">\n",
       "      <th></th>\n",
       "      <th>jobTitle</th>\n",
       "      <th>gender</th>\n",
       "      <th>Age</th>\n",
       "      <th>perfEval</th>\n",
       "      <th>edu</th>\n",
       "      <th>dept</th>\n",
       "      <th>seniority</th>\n",
       "      <th>basePay</th>\n",
       "      <th>bonus</th>\n",
       "    </tr>\n",
       "  </thead>\n",
       "  <tbody>\n",
       "    <tr>\n",
       "      <th>357</th>\n",
       "      <td>Manager</td>\n",
       "      <td>Female</td>\n",
       "      <td>60</td>\n",
       "      <td>4</td>\n",
       "      <td>PhD</td>\n",
       "      <td>Management</td>\n",
       "      <td>3</td>\n",
       "      <td>160614</td>\n",
       "      <td>8354</td>\n",
       "    </tr>\n",
       "    <tr>\n",
       "      <th>399</th>\n",
       "      <td>Financial Analyst</td>\n",
       "      <td>Male</td>\n",
       "      <td>60</td>\n",
       "      <td>5</td>\n",
       "      <td>High School</td>\n",
       "      <td>Engineering</td>\n",
       "      <td>4</td>\n",
       "      <td>121728</td>\n",
       "      <td>7932</td>\n",
       "    </tr>\n",
       "    <tr>\n",
       "      <th>429</th>\n",
       "      <td>Software Engineer</td>\n",
       "      <td>Male</td>\n",
       "      <td>60</td>\n",
       "      <td>4</td>\n",
       "      <td>Masters</td>\n",
       "      <td>Sales</td>\n",
       "      <td>5</td>\n",
       "      <td>155676</td>\n",
       "      <td>6586</td>\n",
       "    </tr>\n",
       "    <tr>\n",
       "      <th>446</th>\n",
       "      <td>Software Engineer</td>\n",
       "      <td>Male</td>\n",
       "      <td>60</td>\n",
       "      <td>3</td>\n",
       "      <td>PhD</td>\n",
       "      <td>Management</td>\n",
       "      <td>5</td>\n",
       "      <td>145632</td>\n",
       "      <td>6439</td>\n",
       "    </tr>\n",
       "    <tr>\n",
       "      <th>512</th>\n",
       "      <td>Manager</td>\n",
       "      <td>Male</td>\n",
       "      <td>60</td>\n",
       "      <td>4</td>\n",
       "      <td>College</td>\n",
       "      <td>Sales</td>\n",
       "      <td>2</td>\n",
       "      <td>148178</td>\n",
       "      <td>6777</td>\n",
       "    </tr>\n",
       "  </tbody>\n",
       "</table>\n",
       "</div>"
      ],
      "text/plain": [
       "              jobTitle  gender  Age  perfEval          edu         dept  \\\n",
       "357            Manager  Female   60         4          PhD   Management   \n",
       "399  Financial Analyst    Male   60         5  High School  Engineering   \n",
       "429  Software Engineer    Male   60         4      Masters        Sales   \n",
       "446  Software Engineer    Male   60         3          PhD   Management   \n",
       "512            Manager    Male   60         4      College        Sales   \n",
       "\n",
       "     seniority  basePay  bonus  \n",
       "357          3   160614   8354  \n",
       "399          4   121728   7932  \n",
       "429          5   155676   6586  \n",
       "446          5   145632   6439  \n",
       "512          2   148178   6777  "
      ]
     },
     "execution_count": 376,
     "metadata": {},
     "output_type": "execute_result"
    }
   ],
   "source": [
    "#let's get the dataset of all those with age 60\n",
    "df.query(\"Age== 60\").head()"
   ]
  },
  {
   "cell_type": "markdown",
   "id": "eb38bec4",
   "metadata": {},
   "source": [
    "#### filtering multiple entries"
   ]
  },
  {
   "cell_type": "code",
   "execution_count": 382,
   "id": "8536e872",
   "metadata": {},
   "outputs": [
    {
     "data": {
      "text/html": [
       "<div>\n",
       "<style scoped>\n",
       "    .dataframe tbody tr th:only-of-type {\n",
       "        vertical-align: middle;\n",
       "    }\n",
       "\n",
       "    .dataframe tbody tr th {\n",
       "        vertical-align: top;\n",
       "    }\n",
       "\n",
       "    .dataframe thead th {\n",
       "        text-align: right;\n",
       "    }\n",
       "</style>\n",
       "<table border=\"1\" class=\"dataframe\">\n",
       "  <thead>\n",
       "    <tr style=\"text-align: right;\">\n",
       "      <th></th>\n",
       "      <th>jobTitle</th>\n",
       "      <th>gender</th>\n",
       "      <th>Age</th>\n",
       "      <th>perfEval</th>\n",
       "      <th>edu</th>\n",
       "      <th>dept</th>\n",
       "      <th>seniority</th>\n",
       "      <th>basePay</th>\n",
       "      <th>bonus</th>\n",
       "    </tr>\n",
       "  </thead>\n",
       "  <tbody>\n",
       "    <tr>\n",
       "      <th>3</th>\n",
       "      <td>Software Engineer</td>\n",
       "      <td>Male</td>\n",
       "      <td>20</td>\n",
       "      <td>5</td>\n",
       "      <td>Masters</td>\n",
       "      <td>Sales</td>\n",
       "      <td>4</td>\n",
       "      <td>108080</td>\n",
       "      <td>10154</td>\n",
       "    </tr>\n",
       "    <tr>\n",
       "      <th>26</th>\n",
       "      <td>Software Engineer</td>\n",
       "      <td>Male</td>\n",
       "      <td>19</td>\n",
       "      <td>5</td>\n",
       "      <td>Masters</td>\n",
       "      <td>Administration</td>\n",
       "      <td>4</td>\n",
       "      <td>100305</td>\n",
       "      <td>9618</td>\n",
       "    </tr>\n",
       "    <tr>\n",
       "      <th>30</th>\n",
       "      <td>Software Engineer</td>\n",
       "      <td>Male</td>\n",
       "      <td>20</td>\n",
       "      <td>5</td>\n",
       "      <td>Masters</td>\n",
       "      <td>Management</td>\n",
       "      <td>2</td>\n",
       "      <td>66359</td>\n",
       "      <td>10137</td>\n",
       "    </tr>\n",
       "    <tr>\n",
       "      <th>44</th>\n",
       "      <td>Software Engineer</td>\n",
       "      <td>Male</td>\n",
       "      <td>25</td>\n",
       "      <td>5</td>\n",
       "      <td>Masters</td>\n",
       "      <td>Sales</td>\n",
       "      <td>5</td>\n",
       "      <td>119024</td>\n",
       "      <td>11293</td>\n",
       "    </tr>\n",
       "    <tr>\n",
       "      <th>45</th>\n",
       "      <td>Software Engineer</td>\n",
       "      <td>Male</td>\n",
       "      <td>22</td>\n",
       "      <td>5</td>\n",
       "      <td>Masters</td>\n",
       "      <td>Management</td>\n",
       "      <td>3</td>\n",
       "      <td>81503</td>\n",
       "      <td>9729</td>\n",
       "    </tr>\n",
       "  </tbody>\n",
       "</table>\n",
       "</div>"
      ],
      "text/plain": [
       "             jobTitle gender  Age  perfEval      edu            dept  \\\n",
       "3   Software Engineer   Male   20         5  Masters           Sales   \n",
       "26  Software Engineer   Male   19         5  Masters  Administration   \n",
       "30  Software Engineer   Male   20         5  Masters      Management   \n",
       "44  Software Engineer   Male   25         5  Masters           Sales   \n",
       "45  Software Engineer   Male   22         5  Masters      Management   \n",
       "\n",
       "    seniority  basePay  bonus  \n",
       "3           4   108080  10154  \n",
       "26          4   100305   9618  \n",
       "30          2    66359  10137  \n",
       "44          5   119024  11293  \n",
       "45          3    81503   9729  "
      ]
     },
     "execution_count": 382,
     "metadata": {},
     "output_type": "execute_result"
    }
   ],
   "source": [
    "df[(df[\"jobTitle\"]== \"Software Engineer\") & (df[\"edu\"]== \"Masters\")].head(5)"
   ]
  },
  {
   "cell_type": "code",
   "execution_count": 390,
   "id": "69f5fd9c",
   "metadata": {},
   "outputs": [
    {
     "data": {
      "text/html": [
       "<div>\n",
       "<style scoped>\n",
       "    .dataframe tbody tr th:only-of-type {\n",
       "        vertical-align: middle;\n",
       "    }\n",
       "\n",
       "    .dataframe tbody tr th {\n",
       "        vertical-align: top;\n",
       "    }\n",
       "\n",
       "    .dataframe thead th {\n",
       "        text-align: right;\n",
       "    }\n",
       "</style>\n",
       "<table border=\"1\" class=\"dataframe\">\n",
       "  <thead>\n",
       "    <tr style=\"text-align: right;\">\n",
       "      <th></th>\n",
       "      <th>jobTitle</th>\n",
       "      <th>gender</th>\n",
       "      <th>Age</th>\n",
       "      <th>perfEval</th>\n",
       "      <th>edu</th>\n",
       "      <th>dept</th>\n",
       "      <th>seniority</th>\n",
       "      <th>basePay</th>\n",
       "      <th>bonus</th>\n",
       "    </tr>\n",
       "  </thead>\n",
       "  <tbody>\n",
       "    <tr>\n",
       "      <th>3</th>\n",
       "      <td>Software Engineer</td>\n",
       "      <td>Male</td>\n",
       "      <td>20</td>\n",
       "      <td>5</td>\n",
       "      <td>Masters</td>\n",
       "      <td>Sales</td>\n",
       "      <td>4</td>\n",
       "      <td>108080</td>\n",
       "      <td>10154</td>\n",
       "    </tr>\n",
       "    <tr>\n",
       "      <th>26</th>\n",
       "      <td>Software Engineer</td>\n",
       "      <td>Male</td>\n",
       "      <td>19</td>\n",
       "      <td>5</td>\n",
       "      <td>Masters</td>\n",
       "      <td>Administration</td>\n",
       "      <td>4</td>\n",
       "      <td>100305</td>\n",
       "      <td>9618</td>\n",
       "    </tr>\n",
       "    <tr>\n",
       "      <th>30</th>\n",
       "      <td>Software Engineer</td>\n",
       "      <td>Male</td>\n",
       "      <td>20</td>\n",
       "      <td>5</td>\n",
       "      <td>Masters</td>\n",
       "      <td>Management</td>\n",
       "      <td>2</td>\n",
       "      <td>66359</td>\n",
       "      <td>10137</td>\n",
       "    </tr>\n",
       "    <tr>\n",
       "      <th>44</th>\n",
       "      <td>Software Engineer</td>\n",
       "      <td>Male</td>\n",
       "      <td>25</td>\n",
       "      <td>5</td>\n",
       "      <td>Masters</td>\n",
       "      <td>Sales</td>\n",
       "      <td>5</td>\n",
       "      <td>119024</td>\n",
       "      <td>11293</td>\n",
       "    </tr>\n",
       "  </tbody>\n",
       "</table>\n",
       "</div>"
      ],
      "text/plain": [
       "             jobTitle gender  Age  perfEval      edu            dept  \\\n",
       "3   Software Engineer   Male   20         5  Masters           Sales   \n",
       "26  Software Engineer   Male   19         5  Masters  Administration   \n",
       "30  Software Engineer   Male   20         5  Masters      Management   \n",
       "44  Software Engineer   Male   25         5  Masters           Sales   \n",
       "\n",
       "    seniority  basePay  bonus  \n",
       "3           4   108080  10154  \n",
       "26          4   100305   9618  \n",
       "30          2    66359  10137  \n",
       "44          5   119024  11293  "
      ]
     },
     "execution_count": 390,
     "metadata": {},
     "output_type": "execute_result"
    }
   ],
   "source": [
    "df.query(\"jobTitle == 'Software Engineer' & edu == 'Masters'\").head(4) # and can also be used"
   ]
  },
  {
   "cell_type": "code",
   "execution_count": 393,
   "id": "4c652414",
   "metadata": {},
   "outputs": [
    {
     "data": {
      "text/html": [
       "<div>\n",
       "<style scoped>\n",
       "    .dataframe tbody tr th:only-of-type {\n",
       "        vertical-align: middle;\n",
       "    }\n",
       "\n",
       "    .dataframe tbody tr th {\n",
       "        vertical-align: top;\n",
       "    }\n",
       "\n",
       "    .dataframe thead th {\n",
       "        text-align: right;\n",
       "    }\n",
       "</style>\n",
       "<table border=\"1\" class=\"dataframe\">\n",
       "  <thead>\n",
       "    <tr style=\"text-align: right;\">\n",
       "      <th></th>\n",
       "      <th>jobTitle</th>\n",
       "      <th>gender</th>\n",
       "      <th>Age</th>\n",
       "      <th>perfEval</th>\n",
       "      <th>edu</th>\n",
       "      <th>dept</th>\n",
       "      <th>seniority</th>\n",
       "      <th>basePay</th>\n",
       "      <th>bonus</th>\n",
       "    </tr>\n",
       "  </thead>\n",
       "  <tbody>\n",
       "    <tr>\n",
       "      <th>1</th>\n",
       "      <td>Software Engineer</td>\n",
       "      <td>Male</td>\n",
       "      <td>21</td>\n",
       "      <td>5</td>\n",
       "      <td>College</td>\n",
       "      <td>Management</td>\n",
       "      <td>5</td>\n",
       "      <td>108476</td>\n",
       "      <td>11128</td>\n",
       "    </tr>\n",
       "    <tr>\n",
       "      <th>3</th>\n",
       "      <td>Software Engineer</td>\n",
       "      <td>Male</td>\n",
       "      <td>20</td>\n",
       "      <td>5</td>\n",
       "      <td>Masters</td>\n",
       "      <td>Sales</td>\n",
       "      <td>4</td>\n",
       "      <td>108080</td>\n",
       "      <td>10154</td>\n",
       "    </tr>\n",
       "    <tr>\n",
       "      <th>4</th>\n",
       "      <td>Graphic Designer</td>\n",
       "      <td>Male</td>\n",
       "      <td>26</td>\n",
       "      <td>5</td>\n",
       "      <td>Masters</td>\n",
       "      <td>Engineering</td>\n",
       "      <td>5</td>\n",
       "      <td>99464</td>\n",
       "      <td>9319</td>\n",
       "    </tr>\n",
       "    <tr>\n",
       "      <th>7</th>\n",
       "      <td>Software Engineer</td>\n",
       "      <td>Male</td>\n",
       "      <td>18</td>\n",
       "      <td>4</td>\n",
       "      <td>PhD</td>\n",
       "      <td>Engineering</td>\n",
       "      <td>5</td>\n",
       "      <td>97523</td>\n",
       "      <td>10240</td>\n",
       "    </tr>\n",
       "  </tbody>\n",
       "</table>\n",
       "</div>"
      ],
      "text/plain": [
       "            jobTitle gender  Age  perfEval      edu         dept  seniority  \\\n",
       "1  Software Engineer   Male   21         5  College   Management          5   \n",
       "3  Software Engineer   Male   20         5  Masters        Sales          4   \n",
       "4   Graphic Designer   Male   26         5  Masters  Engineering          5   \n",
       "7  Software Engineer   Male   18         4      PhD  Engineering          5   \n",
       "\n",
       "   basePay  bonus  \n",
       "1   108476  11128  \n",
       "3   108080  10154  \n",
       "4    99464   9319  \n",
       "7    97523  10240  "
      ]
     },
     "execution_count": 393,
     "metadata": {},
     "output_type": "execute_result"
    }
   ],
   "source": [
    "df.query(\"jobTitle == 'Software Engineer' | edu == 'Masters'\").head(4) # or can also be used. here either condition will be printed"
   ]
  },
  {
   "cell_type": "code",
   "execution_count": 397,
   "id": "a41b4f64",
   "metadata": {},
   "outputs": [
    {
     "data": {
      "text/html": [
       "<div>\n",
       "<style scoped>\n",
       "    .dataframe tbody tr th:only-of-type {\n",
       "        vertical-align: middle;\n",
       "    }\n",
       "\n",
       "    .dataframe tbody tr th {\n",
       "        vertical-align: top;\n",
       "    }\n",
       "\n",
       "    .dataframe thead th {\n",
       "        text-align: right;\n",
       "    }\n",
       "</style>\n",
       "<table border=\"1\" class=\"dataframe\">\n",
       "  <thead>\n",
       "    <tr style=\"text-align: right;\">\n",
       "      <th></th>\n",
       "      <th>jobTitle</th>\n",
       "      <th>gender</th>\n",
       "      <th>Age</th>\n",
       "      <th>perfEval</th>\n",
       "      <th>edu</th>\n",
       "      <th>dept</th>\n",
       "      <th>seniority</th>\n",
       "      <th>basePay</th>\n",
       "      <th>bonus</th>\n",
       "    </tr>\n",
       "  </thead>\n",
       "  <tbody>\n",
       "    <tr>\n",
       "      <th>350</th>\n",
       "      <td>Software Engineer</td>\n",
       "      <td>Male</td>\n",
       "      <td>65</td>\n",
       "      <td>4</td>\n",
       "      <td>High School</td>\n",
       "      <td>Management</td>\n",
       "      <td>5</td>\n",
       "      <td>157852</td>\n",
       "      <td>6669</td>\n",
       "    </tr>\n",
       "    <tr>\n",
       "      <th>374</th>\n",
       "      <td>Software Engineer</td>\n",
       "      <td>Male</td>\n",
       "      <td>65</td>\n",
       "      <td>5</td>\n",
       "      <td>Masters</td>\n",
       "      <td>Sales</td>\n",
       "      <td>1</td>\n",
       "      <td>134758</td>\n",
       "      <td>7500</td>\n",
       "    </tr>\n",
       "    <tr>\n",
       "      <th>443</th>\n",
       "      <td>Software Engineer</td>\n",
       "      <td>Male</td>\n",
       "      <td>65</td>\n",
       "      <td>4</td>\n",
       "      <td>High School</td>\n",
       "      <td>Engineering</td>\n",
       "      <td>1</td>\n",
       "      <td>102597</td>\n",
       "      <td>5937</td>\n",
       "    </tr>\n",
       "    <tr>\n",
       "      <th>741</th>\n",
       "      <td>Software Engineer</td>\n",
       "      <td>Male</td>\n",
       "      <td>65</td>\n",
       "      <td>3</td>\n",
       "      <td>High School</td>\n",
       "      <td>Sales</td>\n",
       "      <td>2</td>\n",
       "      <td>122624</td>\n",
       "      <td>4165</td>\n",
       "    </tr>\n",
       "  </tbody>\n",
       "</table>\n",
       "</div>"
      ],
      "text/plain": [
       "              jobTitle gender  Age  perfEval          edu         dept  \\\n",
       "350  Software Engineer   Male   65         4  High School   Management   \n",
       "374  Software Engineer   Male   65         5      Masters        Sales   \n",
       "443  Software Engineer   Male   65         4  High School  Engineering   \n",
       "741  Software Engineer   Male   65         3  High School        Sales   \n",
       "\n",
       "     seniority  basePay  bonus  \n",
       "350          5   157852   6669  \n",
       "374          1   134758   7500  \n",
       "443          1   102597   5937  \n",
       "741          2   122624   4165  "
      ]
     },
     "execution_count": 397,
     "metadata": {},
     "output_type": "execute_result"
    }
   ],
   "source": [
    "df.query(\"jobTitle == 'Software Engineer' & Age >= 65\")\n",
    "# ONLY 4 software engineers are older than 65"
   ]
  },
  {
   "cell_type": "markdown",
   "id": "a7891631",
   "metadata": {},
   "source": [
    "#### Discussion - filtering\n",
    "1. find the average base salary for data scientists who are phd holders"
   ]
  },
  {
   "cell_type": "code",
   "execution_count": 398,
   "id": "0026bd7c",
   "metadata": {},
   "outputs": [],
   "source": [
    "# here we need jobTitle, basepay and edu column"
   ]
  },
  {
   "cell_type": "code",
   "execution_count": 406,
   "id": "19eab5fe",
   "metadata": {},
   "outputs": [
    {
     "data": {
      "text/html": [
       "<div>\n",
       "<style scoped>\n",
       "    .dataframe tbody tr th:only-of-type {\n",
       "        vertical-align: middle;\n",
       "    }\n",
       "\n",
       "    .dataframe tbody tr th {\n",
       "        vertical-align: top;\n",
       "    }\n",
       "\n",
       "    .dataframe thead th {\n",
       "        text-align: right;\n",
       "    }\n",
       "</style>\n",
       "<table border=\"1\" class=\"dataframe\">\n",
       "  <thead>\n",
       "    <tr style=\"text-align: right;\">\n",
       "      <th></th>\n",
       "      <th>jobTitle</th>\n",
       "      <th>gender</th>\n",
       "      <th>Age</th>\n",
       "      <th>perfEval</th>\n",
       "      <th>edu</th>\n",
       "      <th>dept</th>\n",
       "      <th>seniority</th>\n",
       "      <th>basePay</th>\n",
       "      <th>bonus</th>\n",
       "    </tr>\n",
       "  </thead>\n",
       "  <tbody>\n",
       "    <tr>\n",
       "      <th>34</th>\n",
       "      <td>Data Scientist</td>\n",
       "      <td>Female</td>\n",
       "      <td>45</td>\n",
       "      <td>5</td>\n",
       "      <td>PhD</td>\n",
       "      <td>Management</td>\n",
       "      <td>5</td>\n",
       "      <td>113252</td>\n",
       "      <td>10139</td>\n",
       "    </tr>\n",
       "    <tr>\n",
       "      <th>40</th>\n",
       "      <td>Data Scientist</td>\n",
       "      <td>Male</td>\n",
       "      <td>29</td>\n",
       "      <td>5</td>\n",
       "      <td>PhD</td>\n",
       "      <td>Administration</td>\n",
       "      <td>5</td>\n",
       "      <td>96355</td>\n",
       "      <td>9784</td>\n",
       "    </tr>\n",
       "    <tr>\n",
       "      <th>41</th>\n",
       "      <td>Data Scientist</td>\n",
       "      <td>Male</td>\n",
       "      <td>32</td>\n",
       "      <td>5</td>\n",
       "      <td>PhD</td>\n",
       "      <td>Management</td>\n",
       "      <td>3</td>\n",
       "      <td>87121</td>\n",
       "      <td>8703</td>\n",
       "    </tr>\n",
       "    <tr>\n",
       "      <th>46</th>\n",
       "      <td>Data Scientist</td>\n",
       "      <td>Female</td>\n",
       "      <td>21</td>\n",
       "      <td>5</td>\n",
       "      <td>PhD</td>\n",
       "      <td>Operations</td>\n",
       "      <td>3</td>\n",
       "      <td>70643</td>\n",
       "      <td>10033</td>\n",
       "    </tr>\n",
       "    <tr>\n",
       "      <th>68</th>\n",
       "      <td>Data Scientist</td>\n",
       "      <td>Male</td>\n",
       "      <td>18</td>\n",
       "      <td>5</td>\n",
       "      <td>PhD</td>\n",
       "      <td>Administration</td>\n",
       "      <td>4</td>\n",
       "      <td>59212</td>\n",
       "      <td>10209</td>\n",
       "    </tr>\n",
       "  </tbody>\n",
       "</table>\n",
       "</div>"
      ],
      "text/plain": [
       "          jobTitle  gender  Age  perfEval  edu            dept  seniority  \\\n",
       "34  Data Scientist  Female   45         5  PhD      Management          5   \n",
       "40  Data Scientist    Male   29         5  PhD  Administration          5   \n",
       "41  Data Scientist    Male   32         5  PhD      Management          3   \n",
       "46  Data Scientist  Female   21         5  PhD      Operations          3   \n",
       "68  Data Scientist    Male   18         5  PhD  Administration          4   \n",
       "\n",
       "    basePay  bonus  \n",
       "34   113252  10139  \n",
       "40    96355   9784  \n",
       "41    87121   8703  \n",
       "46    70643  10033  \n",
       "68    59212  10209  "
      ]
     },
     "execution_count": 406,
     "metadata": {},
     "output_type": "execute_result"
    }
   ],
   "source": [
    "df.query(\"jobTitle == 'Data Scientist' and edu == 'PhD'\").head()"
   ]
  },
  {
   "cell_type": "code",
   "execution_count": 407,
   "id": "41c64eae",
   "metadata": {},
   "outputs": [
    {
     "data": {
      "text/plain": [
       "98262.4827586207"
      ]
     },
     "execution_count": 407,
     "metadata": {},
     "output_type": "execute_result"
    }
   ],
   "source": [
    "df.query(\"jobTitle == 'Data Scientist' and edu == 'PhD'\")[\"basePay\"].mean()"
   ]
  },
  {
   "cell_type": "markdown",
   "id": "59b42a73",
   "metadata": {},
   "source": [
    "### Grouped and Aggregated Calculation"
   ]
  },
  {
   "cell_type": "code",
   "execution_count": 414,
   "id": "a99f224e",
   "metadata": {},
   "outputs": [
    {
     "data": {
      "text/plain": [
       "92433.42056074766"
      ]
     },
     "execution_count": 414,
     "metadata": {},
     "output_type": "execute_result"
    }
   ],
   "source": [
    "# find the average base salary for data scientists at all levels of education\n",
    "df.query(\"jobTitle == 'Data Scientist'\")[\"basePay\"].mean()\n",
    "#average salary of all data scientist"
   ]
  },
  {
   "cell_type": "code",
   "execution_count": 415,
   "id": "4ca66df8",
   "metadata": {},
   "outputs": [
    {
     "data": {
      "text/plain": [
       "edu\n",
       "College         87545.600000\n",
       "High School     79332.862069\n",
       "Masters        103075.827586\n",
       "PhD             98262.482759\n",
       "Name: basePay, dtype: float64"
      ]
     },
     "execution_count": 415,
     "metadata": {},
     "output_type": "execute_result"
    }
   ],
   "source": [
    "df.query(\"jobTitle == 'Data Scientist'\").groupby(\"edu\")[\"basePay\"].mean()\n",
    "#average salary of all data scientist at all levels of education"
   ]
  },
  {
   "cell_type": "code",
   "execution_count": 417,
   "id": "f79bfeb9",
   "metadata": {},
   "outputs": [
    {
     "data": {
      "text/plain": [
       "edu\n",
       "Masters        103075.827586\n",
       "PhD             98262.482759\n",
       "College         87545.600000\n",
       "High School     79332.862069\n",
       "Name: basePay, dtype: float64"
      ]
     },
     "execution_count": 417,
     "metadata": {},
     "output_type": "execute_result"
    }
   ],
   "source": [
    "df.query(\"jobTitle == 'Data Scientist'\").groupby(\"edu\")[\"basePay\"].mean().sort_values(ascending= False)"
   ]
  },
  {
   "cell_type": "code",
   "execution_count": 423,
   "id": "c53af6a7",
   "metadata": {},
   "outputs": [
    {
     "data": {
      "text/plain": [
       "dept\n",
       "Administration    91692.025907\n",
       "Engineering       96492.552083\n",
       "Management        96492.974747\n",
       "Operations        90072.823810\n",
       "Sales             97722.801932\n",
       "Name: basePay, dtype: float64"
      ]
     },
     "execution_count": 423,
     "metadata": {},
     "output_type": "execute_result"
    }
   ],
   "source": [
    "#2. calculate the average base pay and median bous for each department\n",
    "df.groupby(\"dept\")[\"basePay\"].mean()"
   ]
  },
  {
   "cell_type": "code",
   "execution_count": 425,
   "id": "0bc6e935",
   "metadata": {},
   "outputs": [
    {
     "data": {
      "text/plain": [
       "dept\n",
       "Administration    6581.0\n",
       "Engineering       6630.5\n",
       "Management        6556.0\n",
       "Operations        6492.5\n",
       "Sales             6179.0\n",
       "Name: bonus, dtype: float64"
      ]
     },
     "execution_count": 425,
     "metadata": {},
     "output_type": "execute_result"
    }
   ],
   "source": [
    "df.groupby(\"dept\")[\"bonus\"].median()"
   ]
  },
  {
   "cell_type": "code",
   "execution_count": 428,
   "id": "39258dab",
   "metadata": {},
   "outputs": [
    {
     "data": {
      "text/html": [
       "<div>\n",
       "<style scoped>\n",
       "    .dataframe tbody tr th:only-of-type {\n",
       "        vertical-align: middle;\n",
       "    }\n",
       "\n",
       "    .dataframe tbody tr th {\n",
       "        vertical-align: top;\n",
       "    }\n",
       "\n",
       "    .dataframe thead th {\n",
       "        text-align: right;\n",
       "    }\n",
       "</style>\n",
       "<table border=\"1\" class=\"dataframe\">\n",
       "  <thead>\n",
       "    <tr style=\"text-align: right;\">\n",
       "      <th></th>\n",
       "      <th>basePay</th>\n",
       "      <th>bonus</th>\n",
       "    </tr>\n",
       "    <tr>\n",
       "      <th>dept</th>\n",
       "      <th></th>\n",
       "      <th></th>\n",
       "    </tr>\n",
       "  </thead>\n",
       "  <tbody>\n",
       "    <tr>\n",
       "      <th>Administration</th>\n",
       "      <td>91692.025907</td>\n",
       "      <td>6434.590674</td>\n",
       "    </tr>\n",
       "    <tr>\n",
       "      <th>Engineering</th>\n",
       "      <td>96492.552083</td>\n",
       "      <td>6770.442708</td>\n",
       "    </tr>\n",
       "    <tr>\n",
       "      <th>Management</th>\n",
       "      <td>96492.974747</td>\n",
       "      <td>6619.757576</td>\n",
       "    </tr>\n",
       "    <tr>\n",
       "      <th>Operations</th>\n",
       "      <td>90072.823810</td>\n",
       "      <td>6345.900000</td>\n",
       "    </tr>\n",
       "    <tr>\n",
       "      <th>Sales</th>\n",
       "      <td>97722.801932</td>\n",
       "      <td>6193.280193</td>\n",
       "    </tr>\n",
       "  </tbody>\n",
       "</table>\n",
       "</div>"
      ],
      "text/plain": [
       "                     basePay        bonus\n",
       "dept                                     \n",
       "Administration  91692.025907  6434.590674\n",
       "Engineering     96492.552083  6770.442708\n",
       "Management      96492.974747  6619.757576\n",
       "Operations      90072.823810  6345.900000\n",
       "Sales           97722.801932  6193.280193"
      ]
     },
     "execution_count": 428,
     "metadata": {},
     "output_type": "execute_result"
    }
   ],
   "source": [
    "df.groupby(\"dept\")[[\"basePay\",\"bonus\"]].mean()"
   ]
  },
  {
   "cell_type": "code",
   "execution_count": 432,
   "id": "8677a7f7",
   "metadata": {},
   "outputs": [
    {
     "data": {
      "text/html": [
       "<div>\n",
       "<style scoped>\n",
       "    .dataframe tbody tr th:only-of-type {\n",
       "        vertical-align: middle;\n",
       "    }\n",
       "\n",
       "    .dataframe tbody tr th {\n",
       "        vertical-align: top;\n",
       "    }\n",
       "\n",
       "    .dataframe thead th {\n",
       "        text-align: right;\n",
       "    }\n",
       "</style>\n",
       "<table border=\"1\" class=\"dataframe\">\n",
       "  <thead>\n",
       "    <tr style=\"text-align: right;\">\n",
       "      <th></th>\n",
       "      <th>basePay</th>\n",
       "      <th>bonus</th>\n",
       "    </tr>\n",
       "    <tr>\n",
       "      <th>dept</th>\n",
       "      <th></th>\n",
       "      <th></th>\n",
       "    </tr>\n",
       "  </thead>\n",
       "  <tbody>\n",
       "    <tr>\n",
       "      <th>Administration</th>\n",
       "      <td>91692.025907</td>\n",
       "      <td>6581.0</td>\n",
       "    </tr>\n",
       "    <tr>\n",
       "      <th>Engineering</th>\n",
       "      <td>96492.552083</td>\n",
       "      <td>6630.5</td>\n",
       "    </tr>\n",
       "    <tr>\n",
       "      <th>Management</th>\n",
       "      <td>96492.974747</td>\n",
       "      <td>6556.0</td>\n",
       "    </tr>\n",
       "    <tr>\n",
       "      <th>Operations</th>\n",
       "      <td>90072.823810</td>\n",
       "      <td>6492.5</td>\n",
       "    </tr>\n",
       "    <tr>\n",
       "      <th>Sales</th>\n",
       "      <td>97722.801932</td>\n",
       "      <td>6179.0</td>\n",
       "    </tr>\n",
       "  </tbody>\n",
       "</table>\n",
       "</div>"
      ],
      "text/plain": [
       "                     basePay   bonus\n",
       "dept                                \n",
       "Administration  91692.025907  6581.0\n",
       "Engineering     96492.552083  6630.5\n",
       "Management      96492.974747  6556.0\n",
       "Operations      90072.823810  6492.5\n",
       "Sales           97722.801932  6179.0"
      ]
     },
     "execution_count": 432,
     "metadata": {},
     "output_type": "execute_result"
    }
   ],
   "source": [
    "#in order to call both mean and median, Aggregrate methd will be used\n",
    "df.groupby(\"dept\").agg({\"basePay\":\"mean\",\"bonus\":\"median\"})"
   ]
  },
  {
   "cell_type": "code",
   "execution_count": 439,
   "id": "873f2e08",
   "metadata": {},
   "outputs": [
    {
     "data": {
      "text/html": [
       "<div>\n",
       "<style scoped>\n",
       "    .dataframe tbody tr th:only-of-type {\n",
       "        vertical-align: middle;\n",
       "    }\n",
       "\n",
       "    .dataframe tbody tr th {\n",
       "        vertical-align: top;\n",
       "    }\n",
       "\n",
       "    .dataframe thead th {\n",
       "        text-align: right;\n",
       "    }\n",
       "</style>\n",
       "<table border=\"1\" class=\"dataframe\">\n",
       "  <thead>\n",
       "    <tr style=\"text-align: right;\">\n",
       "      <th></th>\n",
       "      <th>basePay</th>\n",
       "      <th>bonus</th>\n",
       "    </tr>\n",
       "    <tr>\n",
       "      <th>dept</th>\n",
       "      <th></th>\n",
       "      <th></th>\n",
       "    </tr>\n",
       "  </thead>\n",
       "  <tbody>\n",
       "    <tr>\n",
       "      <th>Engineering</th>\n",
       "      <td>96492.55</td>\n",
       "      <td>6630.5</td>\n",
       "    </tr>\n",
       "    <tr>\n",
       "      <th>Administration</th>\n",
       "      <td>91692.03</td>\n",
       "      <td>6581.0</td>\n",
       "    </tr>\n",
       "    <tr>\n",
       "      <th>Management</th>\n",
       "      <td>96492.97</td>\n",
       "      <td>6556.0</td>\n",
       "    </tr>\n",
       "    <tr>\n",
       "      <th>Operations</th>\n",
       "      <td>90072.82</td>\n",
       "      <td>6492.5</td>\n",
       "    </tr>\n",
       "    <tr>\n",
       "      <th>Sales</th>\n",
       "      <td>97722.80</td>\n",
       "      <td>6179.0</td>\n",
       "    </tr>\n",
       "  </tbody>\n",
       "</table>\n",
       "</div>"
      ],
      "text/plain": [
       "                 basePay   bonus\n",
       "dept                            \n",
       "Engineering     96492.55  6630.5\n",
       "Administration  91692.03  6581.0\n",
       "Management      96492.97  6556.0\n",
       "Operations      90072.82  6492.5\n",
       "Sales           97722.80  6179.0"
      ]
     },
     "execution_count": 439,
     "metadata": {},
     "output_type": "execute_result"
    }
   ],
   "source": [
    "#in order to call both mean and median, Aggregrate methd will be used\n",
    "df.groupby(\"dept\").agg({\"basePay\":\"mean\",\"bonus\":\"median\"}).round(2).sort_values(ascending = False, by= \"bonus\")\n",
    "# by is used because python recognizes a dictionary and not a pandas dataframe"
   ]
  },
  {
   "cell_type": "code",
   "execution_count": 449,
   "id": "c3e2a6bd",
   "metadata": {},
   "outputs": [
    {
     "data": {
      "text/plain": [
       "Male      132\n",
       "Female    106\n",
       "Name: gender, dtype: int64"
      ]
     },
     "execution_count": 449,
     "metadata": {},
     "output_type": "execute_result"
    }
   ],
   "source": [
    "#3.what is the ratio of males to females who are PhD holder\n",
    "df.query(\"edu =='PhD'\")[\"gender\"].value_counts()"
   ]
  },
  {
   "cell_type": "code",
   "execution_count": null,
   "id": "2f859646",
   "metadata": {},
   "outputs": [],
   "source": []
  }
 ],
 "metadata": {
  "kernelspec": {
   "display_name": "Python 3 (ipykernel)",
   "language": "python",
   "name": "python3"
  },
  "language_info": {
   "codemirror_mode": {
    "name": "ipython",
    "version": 3
   },
   "file_extension": ".py",
   "mimetype": "text/x-python",
   "name": "python",
   "nbconvert_exporter": "python",
   "pygments_lexer": "ipython3",
   "version": "3.9.12"
  }
 },
 "nbformat": 4,
 "nbformat_minor": 5
}
